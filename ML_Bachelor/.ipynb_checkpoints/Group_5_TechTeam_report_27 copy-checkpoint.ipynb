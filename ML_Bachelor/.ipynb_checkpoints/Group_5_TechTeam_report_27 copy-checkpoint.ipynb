{
 "cells": [
  {
   "cell_type": "markdown",
   "metadata": {},
   "source": [
    "# Data Science and Visualization (RUC F2023)\n",
    "\n",
    "## Miniproject Report: NLP for review evaluation"
   ]
  },
  {
   "cell_type": "markdown",
   "metadata": {},
   "source": [
    "## Group Members:\n",
    "* William Grynderup Klindt, RUC, 2023, wgk@ruc.dk\n",
    "* Luchas Schmidt, RUC, 2023, luchas@ruc.dk\n",
    "* Jacob Peter Diesel Nielsen, RUC, 2023, jpn@ruc.dk"
   ]
  },
  {
   "cell_type": "markdown",
   "metadata": {},
   "source": [
    "## Abstract\n",
    "\n",
    "This project aims to classify the sentiment of reviews using an existing dataset of product reviews from Amazon. We used the dataset to train two supervised models, namely Support Vector Machine and Naive Bayes. Through various data visualization techniques, we investigated and analyzed which model performed better with our dataset and discussed the pros and cons of our results and approaches. We conclude that the Support vector Machine algorithm is generally better due to its flexibility and that we are content with our models accuracy of approximately 70%."
   ]
  },
  {
   "cell_type": "markdown",
   "metadata": {},
   "source": [
    "## 0. Setup and Data\n",
    "\n",
    "Import the modules needed for the project."
   ]
  },
  {
   "cell_type": "code",
   "execution_count": 1,
   "metadata": {},
   "outputs": [
    {
     "name": "stderr",
     "output_type": "stream",
     "text": [
      "[nltk_data] Downloading package omw-1.4 to\n",
      "[nltk_data]     /Users/luchasschmidt/nltk_data...\n",
      "[nltk_data]   Package omw-1.4 is already up-to-date!\n",
      "[nltk_data] Downloading package averaged_perceptron_tagger to\n",
      "[nltk_data]     /Users/luchasschmidt/nltk_data...\n",
      "[nltk_data]   Package averaged_perceptron_tagger is already up-to-\n",
      "[nltk_data]       date!\n"
     ]
    }
   ],
   "source": [
    "import matplotlib.pyplot as plt\n",
    "import pandas as pd\n",
    "import os\n",
    "import numpy as np\n",
    "\n",
    "import nltk ## If the project can't run, you might have to install NLTK. Please follow the instructions here: https://www.nltk.org/install.html \n",
    "nltk.download('omw-1.4')\n",
    "nltk.download('averaged_perceptron_tagger')\n",
    "from nltk.stem import WordNetLemmatizer \n",
    "lemmatizer = WordNetLemmatizer()\n",
    "from nltk.corpus import wordnet\n",
    "\n",
    "from nltk.corpus import stopwords\n",
    "import string\n",
    "stopword=set(stopwords.words('english')) \n",
    "from sklearn.naive_bayes import MultinomialNB \n",
    "from sklearn.svm import SVC\n",
    "\n",
    "from sklearn.feature_extraction.text import CountVectorizer\n",
    "from sklearn.model_selection import train_test_split \n",
    "from sklearn import metrics "
   ]
  },
  {
   "cell_type": "markdown",
   "metadata": {},
   "source": [
    "### Data description:\n",
    "This dataset contains approximately 568.000 online Amazon reviews for different amazon products. We have minimized the dataset to approximately 10.000 reviews because we seek to prevent computational and runtime issues.\n",
    "Here is the link for the dataset: https://www.kaggle.com/datasets/jillanisofttech/amazon-product-reviews"
   ]
  },
  {
   "cell_type": "markdown",
   "metadata": {},
   "source": [
    "## 1. Loading the Data\n",
    "\n",
    "Our dataset consists of 10.114 rows and 10 columns."
   ]
  },
  {
   "cell_type": "code",
   "execution_count": 2,
   "metadata": {},
   "outputs": [
    {
     "data": {
      "text/plain": [
       "(10114, 10)"
      ]
     },
     "execution_count": 2,
     "metadata": {},
     "output_type": "execute_result"
    }
   ],
   "source": [
    "cwd = os.getcwd()\n",
    "path_small = os.path.join(cwd, 'Reviews_small.csv')\n",
    "\n",
    "data = pd.read_csv(path_small)\n",
    "data.shape"
   ]
  },
  {
   "cell_type": "markdown",
   "metadata": {},
   "source": [
    "Below is a sample of the full dataset which consists of rows that display each review in the dataset and each column displays the following:\n",
    "- ID\n",
    "- The product ID\n",
    "- The ID of the author who wrote the review\n",
    "- The author's username\n",
    "- Numerator for helpfulness of review\n",
    "- Denominator for helpfulness of review\n",
    "- Product rating\n",
    "- Review time\n",
    "- A title of the review\n",
    "- A descriptive text"
   ]
  },
  {
   "cell_type": "code",
   "execution_count": 3,
   "metadata": {},
   "outputs": [
    {
     "data": {
      "text/html": [
       "<div>\n",
       "<style scoped>\n",
       "    .dataframe tbody tr th:only-of-type {\n",
       "        vertical-align: middle;\n",
       "    }\n",
       "\n",
       "    .dataframe tbody tr th {\n",
       "        vertical-align: top;\n",
       "    }\n",
       "\n",
       "    .dataframe thead th {\n",
       "        text-align: right;\n",
       "    }\n",
       "</style>\n",
       "<table border=\"1\" class=\"dataframe\">\n",
       "  <thead>\n",
       "    <tr style=\"text-align: right;\">\n",
       "      <th></th>\n",
       "      <th>Id</th>\n",
       "      <th>ProductId</th>\n",
       "      <th>UserId</th>\n",
       "      <th>ProfileName</th>\n",
       "      <th>HelpfulnessNumerator</th>\n",
       "      <th>HelpfulnessDenominator</th>\n",
       "      <th>Score</th>\n",
       "      <th>Time</th>\n",
       "      <th>Summary</th>\n",
       "      <th>Text</th>\n",
       "    </tr>\n",
       "  </thead>\n",
       "  <tbody>\n",
       "    <tr>\n",
       "      <th>0</th>\n",
       "      <td>1</td>\n",
       "      <td>B001E4KFG0</td>\n",
       "      <td>A3SGXH7AUHU8GW</td>\n",
       "      <td>delmartian</td>\n",
       "      <td>1</td>\n",
       "      <td>1</td>\n",
       "      <td>5</td>\n",
       "      <td>1303862400</td>\n",
       "      <td>Good Quality Dog Food</td>\n",
       "      <td>I have bought several of the Vitality canned d...</td>\n",
       "    </tr>\n",
       "    <tr>\n",
       "      <th>1</th>\n",
       "      <td>2</td>\n",
       "      <td>B00813GRG4</td>\n",
       "      <td>A1D87F6ZCVE5NK</td>\n",
       "      <td>dll pa</td>\n",
       "      <td>0</td>\n",
       "      <td>0</td>\n",
       "      <td>1</td>\n",
       "      <td>1346976000</td>\n",
       "      <td>Not as Advertised</td>\n",
       "      <td>Product arrived labeled as Jumbo Salted Peanut...</td>\n",
       "    </tr>\n",
       "    <tr>\n",
       "      <th>2</th>\n",
       "      <td>3</td>\n",
       "      <td>B000LQOCH0</td>\n",
       "      <td>ABXLMWJIXXAIN</td>\n",
       "      <td>Natalia Corres \"Natalia Corres\"</td>\n",
       "      <td>1</td>\n",
       "      <td>1</td>\n",
       "      <td>4</td>\n",
       "      <td>1219017600</td>\n",
       "      <td>\"Delight\" says it all</td>\n",
       "      <td>This is a confection that has been around a fe...</td>\n",
       "    </tr>\n",
       "    <tr>\n",
       "      <th>3</th>\n",
       "      <td>4</td>\n",
       "      <td>B000UA0QIQ</td>\n",
       "      <td>A395BORC6FGVXV</td>\n",
       "      <td>Karl</td>\n",
       "      <td>3</td>\n",
       "      <td>3</td>\n",
       "      <td>2</td>\n",
       "      <td>1307923200</td>\n",
       "      <td>Cough Medicine</td>\n",
       "      <td>If you are looking for the secret ingredient i...</td>\n",
       "    </tr>\n",
       "    <tr>\n",
       "      <th>4</th>\n",
       "      <td>5</td>\n",
       "      <td>B006K2ZZ7K</td>\n",
       "      <td>A1UQRSCLF8GW1T</td>\n",
       "      <td>Michael D. Bigham \"M. Wassir\"</td>\n",
       "      <td>0</td>\n",
       "      <td>0</td>\n",
       "      <td>5</td>\n",
       "      <td>1350777600</td>\n",
       "      <td>Great taffy</td>\n",
       "      <td>Great taffy at a great price.  There was a wid...</td>\n",
       "    </tr>\n",
       "    <tr>\n",
       "      <th>...</th>\n",
       "      <td>...</td>\n",
       "      <td>...</td>\n",
       "      <td>...</td>\n",
       "      <td>...</td>\n",
       "      <td>...</td>\n",
       "      <td>...</td>\n",
       "      <td>...</td>\n",
       "      <td>...</td>\n",
       "      <td>...</td>\n",
       "      <td>...</td>\n",
       "    </tr>\n",
       "    <tr>\n",
       "      <th>10109</th>\n",
       "      <td>10110</td>\n",
       "      <td>B003EML8PM</td>\n",
       "      <td>A11LIEOD0VKUDQ</td>\n",
       "      <td>H. Yeldell</td>\n",
       "      <td>0</td>\n",
       "      <td>0</td>\n",
       "      <td>3</td>\n",
       "      <td>1333670400</td>\n",
       "      <td>Very Good Taste but TOO MUCH SALT</td>\n",
       "      <td>I did not find the smell to be anything but in...</td>\n",
       "    </tr>\n",
       "    <tr>\n",
       "      <th>10110</th>\n",
       "      <td>10111</td>\n",
       "      <td>B003EML8PM</td>\n",
       "      <td>A2KZNUJKINCV33</td>\n",
       "      <td>Lynn P Smith</td>\n",
       "      <td>0</td>\n",
       "      <td>0</td>\n",
       "      <td>5</td>\n",
       "      <td>1333584000</td>\n",
       "      <td>Totally wonderful if not overcooked</td>\n",
       "      <td>Unlike microwave popcorn, you cannot hear the ...</td>\n",
       "    </tr>\n",
       "    <tr>\n",
       "      <th>10111</th>\n",
       "      <td>10112</td>\n",
       "      <td>B003EML8PM</td>\n",
       "      <td>AWG67630UAFHL</td>\n",
       "      <td>T. Siu</td>\n",
       "      <td>0</td>\n",
       "      <td>0</td>\n",
       "      <td>2</td>\n",
       "      <td>1332115200</td>\n",
       "      <td>Tasted good the first few bags...</td>\n",
       "      <td>But the taste got sickening quite fast. It als...</td>\n",
       "    </tr>\n",
       "    <tr>\n",
       "      <th>10112</th>\n",
       "      <td>10113</td>\n",
       "      <td>B003EML8PM</td>\n",
       "      <td>A3432KLMRWMLQE</td>\n",
       "      <td>dholco</td>\n",
       "      <td>0</td>\n",
       "      <td>0</td>\n",
       "      <td>5</td>\n",
       "      <td>1331942400</td>\n",
       "      <td>Snacks</td>\n",
       "      <td>I like spicy snacks and this product fills the...</td>\n",
       "    </tr>\n",
       "    <tr>\n",
       "      <th>10113</th>\n",
       "      <td>10114</td>\n",
       "      <td>B003EML8PM</td>\n",
       "      <td>A3MSTGLORHV59A</td>\n",
       "      <td>rhoni4</td>\n",
       "      <td>0</td>\n",
       "      <td>0</td>\n",
       "      <td>5</td>\n",
       "      <td>1331856000</td>\n",
       "      <td>Love these!!!</td>\n",
       "      <td>This is a great alternative to microwave popco...</td>\n",
       "    </tr>\n",
       "  </tbody>\n",
       "</table>\n",
       "<p>10114 rows × 10 columns</p>\n",
       "</div>"
      ],
      "text/plain": [
       "          Id   ProductId          UserId                      ProfileName  \\\n",
       "0          1  B001E4KFG0  A3SGXH7AUHU8GW                       delmartian   \n",
       "1          2  B00813GRG4  A1D87F6ZCVE5NK                           dll pa   \n",
       "2          3  B000LQOCH0   ABXLMWJIXXAIN  Natalia Corres \"Natalia Corres\"   \n",
       "3          4  B000UA0QIQ  A395BORC6FGVXV                             Karl   \n",
       "4          5  B006K2ZZ7K  A1UQRSCLF8GW1T    Michael D. Bigham \"M. Wassir\"   \n",
       "...      ...         ...             ...                              ...   \n",
       "10109  10110  B003EML8PM  A11LIEOD0VKUDQ                       H. Yeldell   \n",
       "10110  10111  B003EML8PM  A2KZNUJKINCV33                     Lynn P Smith   \n",
       "10111  10112  B003EML8PM   AWG67630UAFHL                           T. Siu   \n",
       "10112  10113  B003EML8PM  A3432KLMRWMLQE                           dholco   \n",
       "10113  10114  B003EML8PM  A3MSTGLORHV59A                           rhoni4   \n",
       "\n",
       "       HelpfulnessNumerator  HelpfulnessDenominator  Score        Time  \\\n",
       "0                         1                       1      5  1303862400   \n",
       "1                         0                       0      1  1346976000   \n",
       "2                         1                       1      4  1219017600   \n",
       "3                         3                       3      2  1307923200   \n",
       "4                         0                       0      5  1350777600   \n",
       "...                     ...                     ...    ...         ...   \n",
       "10109                     0                       0      3  1333670400   \n",
       "10110                     0                       0      5  1333584000   \n",
       "10111                     0                       0      2  1332115200   \n",
       "10112                     0                       0      5  1331942400   \n",
       "10113                     0                       0      5  1331856000   \n",
       "\n",
       "                                   Summary  \\\n",
       "0                    Good Quality Dog Food   \n",
       "1                        Not as Advertised   \n",
       "2                    \"Delight\" says it all   \n",
       "3                           Cough Medicine   \n",
       "4                              Great taffy   \n",
       "...                                    ...   \n",
       "10109    Very Good Taste but TOO MUCH SALT   \n",
       "10110  Totally wonderful if not overcooked   \n",
       "10111    Tasted good the first few bags...   \n",
       "10112                               Snacks   \n",
       "10113                        Love these!!!   \n",
       "\n",
       "                                                    Text  \n",
       "0      I have bought several of the Vitality canned d...  \n",
       "1      Product arrived labeled as Jumbo Salted Peanut...  \n",
       "2      This is a confection that has been around a fe...  \n",
       "3      If you are looking for the secret ingredient i...  \n",
       "4      Great taffy at a great price.  There was a wid...  \n",
       "...                                                  ...  \n",
       "10109  I did not find the smell to be anything but in...  \n",
       "10110  Unlike microwave popcorn, you cannot hear the ...  \n",
       "10111  But the taste got sickening quite fast. It als...  \n",
       "10112  I like spicy snacks and this product fills the...  \n",
       "10113  This is a great alternative to microwave popco...  \n",
       "\n",
       "[10114 rows x 10 columns]"
      ]
     },
     "execution_count": 3,
     "metadata": {},
     "output_type": "execute_result"
    }
   ],
   "source": [
    "data"
   ]
  },
  {
   "cell_type": "markdown",
   "metadata": {},
   "source": [
    "## 2. Data Preprocessing\n",
    "\n",
    "Since we downloaded the dataset from Kaggle, they ensured that we received a dataset with zero missing values. \n",
    "Next, we have decided to drop some of the columns that we found irrelevant for the project.\n",
    "\n",
    "These are the columns we removed:"
   ]
  },
  {
   "cell_type": "code",
   "execution_count": 4,
   "metadata": {
    "scrolled": true
   },
   "outputs": [],
   "source": [
    "data = data.drop(labels=['Id', 'ProductId', 'UserId', 'ProfileName', 'HelpfulnessNumerator', 'HelpfulnessDenominator', 'Time', 'Summary'], axis=1)"
   ]
  },
  {
   "cell_type": "markdown",
   "metadata": {},
   "source": [
    "As displayed below, the only columns that we found relevant was the \"Score\" and \"Text\" column."
   ]
  },
  {
   "cell_type": "code",
   "execution_count": 5,
   "metadata": {},
   "outputs": [
    {
     "data": {
      "text/html": [
       "<div>\n",
       "<style scoped>\n",
       "    .dataframe tbody tr th:only-of-type {\n",
       "        vertical-align: middle;\n",
       "    }\n",
       "\n",
       "    .dataframe tbody tr th {\n",
       "        vertical-align: top;\n",
       "    }\n",
       "\n",
       "    .dataframe thead th {\n",
       "        text-align: right;\n",
       "    }\n",
       "</style>\n",
       "<table border=\"1\" class=\"dataframe\">\n",
       "  <thead>\n",
       "    <tr style=\"text-align: right;\">\n",
       "      <th></th>\n",
       "      <th>Score</th>\n",
       "      <th>Text</th>\n",
       "    </tr>\n",
       "  </thead>\n",
       "  <tbody>\n",
       "    <tr>\n",
       "      <th>0</th>\n",
       "      <td>5</td>\n",
       "      <td>I have bought several of the Vitality canned d...</td>\n",
       "    </tr>\n",
       "    <tr>\n",
       "      <th>1</th>\n",
       "      <td>1</td>\n",
       "      <td>Product arrived labeled as Jumbo Salted Peanut...</td>\n",
       "    </tr>\n",
       "    <tr>\n",
       "      <th>2</th>\n",
       "      <td>4</td>\n",
       "      <td>This is a confection that has been around a fe...</td>\n",
       "    </tr>\n",
       "    <tr>\n",
       "      <th>3</th>\n",
       "      <td>2</td>\n",
       "      <td>If you are looking for the secret ingredient i...</td>\n",
       "    </tr>\n",
       "    <tr>\n",
       "      <th>4</th>\n",
       "      <td>5</td>\n",
       "      <td>Great taffy at a great price.  There was a wid...</td>\n",
       "    </tr>\n",
       "    <tr>\n",
       "      <th>...</th>\n",
       "      <td>...</td>\n",
       "      <td>...</td>\n",
       "    </tr>\n",
       "    <tr>\n",
       "      <th>10109</th>\n",
       "      <td>3</td>\n",
       "      <td>I did not find the smell to be anything but in...</td>\n",
       "    </tr>\n",
       "    <tr>\n",
       "      <th>10110</th>\n",
       "      <td>5</td>\n",
       "      <td>Unlike microwave popcorn, you cannot hear the ...</td>\n",
       "    </tr>\n",
       "    <tr>\n",
       "      <th>10111</th>\n",
       "      <td>2</td>\n",
       "      <td>But the taste got sickening quite fast. It als...</td>\n",
       "    </tr>\n",
       "    <tr>\n",
       "      <th>10112</th>\n",
       "      <td>5</td>\n",
       "      <td>I like spicy snacks and this product fills the...</td>\n",
       "    </tr>\n",
       "    <tr>\n",
       "      <th>10113</th>\n",
       "      <td>5</td>\n",
       "      <td>This is a great alternative to microwave popco...</td>\n",
       "    </tr>\n",
       "  </tbody>\n",
       "</table>\n",
       "<p>10114 rows × 2 columns</p>\n",
       "</div>"
      ],
      "text/plain": [
       "       Score                                               Text\n",
       "0          5  I have bought several of the Vitality canned d...\n",
       "1          1  Product arrived labeled as Jumbo Salted Peanut...\n",
       "2          4  This is a confection that has been around a fe...\n",
       "3          2  If you are looking for the secret ingredient i...\n",
       "4          5  Great taffy at a great price.  There was a wid...\n",
       "...      ...                                                ...\n",
       "10109      3  I did not find the smell to be anything but in...\n",
       "10110      5  Unlike microwave popcorn, you cannot hear the ...\n",
       "10111      2  But the taste got sickening quite fast. It als...\n",
       "10112      5  I like spicy snacks and this product fills the...\n",
       "10113      5  This is a great alternative to microwave popco...\n",
       "\n",
       "[10114 rows x 2 columns]"
      ]
     },
     "execution_count": 5,
     "metadata": {},
     "output_type": "execute_result"
    }
   ],
   "source": [
    "data"
   ]
  },
  {
   "cell_type": "markdown",
   "metadata": {},
   "source": [
    "To classify reviews as positive, neutral, or negative, we have created a function that evaluates the score of each review. If the review has a score of 3, we consider it to be neutral. If the score is below 3, such as 1 or 2, we consider it to be a negative review. If the score is greater than 3, we consider it to be a positive review.\n",
    "\n",
    "Below the function, we use a lambda expression to apply the function to each row."
   ]
  },
  {
   "cell_type": "code",
   "execution_count": 6,
   "metadata": {},
   "outputs": [],
   "source": [
    "def classify_sentiment(rating):\n",
    "    if rating == 3:\n",
    "        return 1\n",
    "    elif rating in [1, 2]:\n",
    "        return 0\n",
    "    else:\n",
    "        return 2\n",
    "\n",
    "data['label'] = data['Score'].apply(lambda x: classify_sentiment(x))"
   ]
  },
  {
   "cell_type": "markdown",
   "metadata": {},
   "source": [
    "We then print the name of each column in our dataset to verify that the functions worked as intended."
   ]
  },
  {
   "cell_type": "code",
   "execution_count": 7,
   "metadata": {},
   "outputs": [
    {
     "data": {
      "text/plain": [
       "Index(['Score', 'Text', 'label'], dtype='object')"
      ]
     },
     "execution_count": 7,
     "metadata": {},
     "output_type": "execute_result"
    }
   ],
   "source": [
    "data.columns"
   ]
  },
  {
   "cell_type": "markdown",
   "metadata": {},
   "source": [
    "The dataset now consists of reviews with labels to define the positive, negative, or neutral sentiment of each review. "
   ]
  },
  {
   "cell_type": "code",
   "execution_count": 8,
   "metadata": {},
   "outputs": [
    {
     "data": {
      "text/html": [
       "<div>\n",
       "<style scoped>\n",
       "    .dataframe tbody tr th:only-of-type {\n",
       "        vertical-align: middle;\n",
       "    }\n",
       "\n",
       "    .dataframe tbody tr th {\n",
       "        vertical-align: top;\n",
       "    }\n",
       "\n",
       "    .dataframe thead th {\n",
       "        text-align: right;\n",
       "    }\n",
       "</style>\n",
       "<table border=\"1\" class=\"dataframe\">\n",
       "  <thead>\n",
       "    <tr style=\"text-align: right;\">\n",
       "      <th></th>\n",
       "      <th>Score</th>\n",
       "      <th>Text</th>\n",
       "      <th>label</th>\n",
       "    </tr>\n",
       "  </thead>\n",
       "  <tbody>\n",
       "    <tr>\n",
       "      <th>0</th>\n",
       "      <td>5</td>\n",
       "      <td>I have bought several of the Vitality canned d...</td>\n",
       "      <td>2</td>\n",
       "    </tr>\n",
       "    <tr>\n",
       "      <th>1</th>\n",
       "      <td>1</td>\n",
       "      <td>Product arrived labeled as Jumbo Salted Peanut...</td>\n",
       "      <td>0</td>\n",
       "    </tr>\n",
       "    <tr>\n",
       "      <th>2</th>\n",
       "      <td>4</td>\n",
       "      <td>This is a confection that has been around a fe...</td>\n",
       "      <td>2</td>\n",
       "    </tr>\n",
       "    <tr>\n",
       "      <th>3</th>\n",
       "      <td>2</td>\n",
       "      <td>If you are looking for the secret ingredient i...</td>\n",
       "      <td>0</td>\n",
       "    </tr>\n",
       "    <tr>\n",
       "      <th>4</th>\n",
       "      <td>5</td>\n",
       "      <td>Great taffy at a great price.  There was a wid...</td>\n",
       "      <td>2</td>\n",
       "    </tr>\n",
       "    <tr>\n",
       "      <th>...</th>\n",
       "      <td>...</td>\n",
       "      <td>...</td>\n",
       "      <td>...</td>\n",
       "    </tr>\n",
       "    <tr>\n",
       "      <th>10109</th>\n",
       "      <td>3</td>\n",
       "      <td>I did not find the smell to be anything but in...</td>\n",
       "      <td>1</td>\n",
       "    </tr>\n",
       "    <tr>\n",
       "      <th>10110</th>\n",
       "      <td>5</td>\n",
       "      <td>Unlike microwave popcorn, you cannot hear the ...</td>\n",
       "      <td>2</td>\n",
       "    </tr>\n",
       "    <tr>\n",
       "      <th>10111</th>\n",
       "      <td>2</td>\n",
       "      <td>But the taste got sickening quite fast. It als...</td>\n",
       "      <td>0</td>\n",
       "    </tr>\n",
       "    <tr>\n",
       "      <th>10112</th>\n",
       "      <td>5</td>\n",
       "      <td>I like spicy snacks and this product fills the...</td>\n",
       "      <td>2</td>\n",
       "    </tr>\n",
       "    <tr>\n",
       "      <th>10113</th>\n",
       "      <td>5</td>\n",
       "      <td>This is a great alternative to microwave popco...</td>\n",
       "      <td>2</td>\n",
       "    </tr>\n",
       "  </tbody>\n",
       "</table>\n",
       "<p>10114 rows × 3 columns</p>\n",
       "</div>"
      ],
      "text/plain": [
       "       Score                                               Text  label\n",
       "0          5  I have bought several of the Vitality canned d...      2\n",
       "1          1  Product arrived labeled as Jumbo Salted Peanut...      0\n",
       "2          4  This is a confection that has been around a fe...      2\n",
       "3          2  If you are looking for the secret ingredient i...      0\n",
       "4          5  Great taffy at a great price.  There was a wid...      2\n",
       "...      ...                                                ...    ...\n",
       "10109      3  I did not find the smell to be anything but in...      1\n",
       "10110      5  Unlike microwave popcorn, you cannot hear the ...      2\n",
       "10111      2  But the taste got sickening quite fast. It als...      0\n",
       "10112      5  I like spicy snacks and this product fills the...      2\n",
       "10113      5  This is a great alternative to microwave popco...      2\n",
       "\n",
       "[10114 rows x 3 columns]"
      ]
     },
     "execution_count": 8,
     "metadata": {},
     "output_type": "execute_result"
    }
   ],
   "source": [
    "data"
   ]
  },
  {
   "cell_type": "markdown",
   "metadata": {},
   "source": [
    "To ensure that each row contains a value for each column, we use the info() method from Pandas. We also verify that the \"label\" column only consists of integer values."
   ]
  },
  {
   "cell_type": "code",
   "execution_count": 9,
   "metadata": {},
   "outputs": [
    {
     "name": "stdout",
     "output_type": "stream",
     "text": [
      "<class 'pandas.core.frame.DataFrame'>\n",
      "RangeIndex: 10114 entries, 0 to 10113\n",
      "Data columns (total 3 columns):\n",
      " #   Column  Non-Null Count  Dtype \n",
      "---  ------  --------------  ----- \n",
      " 0   Score   10114 non-null  int64 \n",
      " 1   Text    10114 non-null  object\n",
      " 2   label   10114 non-null  int64 \n",
      "dtypes: int64(2), object(1)\n",
      "memory usage: 237.2+ KB\n"
     ]
    }
   ],
   "source": [
    "data.info()"
   ]
  },
  {
   "cell_type": "markdown",
   "metadata": {},
   "source": [
    "### Text cleaning\n",
    "We seek to clean the text in our dataset to optimize the training model. We found that our text data contains various noise and unwanted characters, such as punctuation, stop words, and special characters, which could potentially affect the quality of the classification process."
   ]
  },
  {
   "cell_type": "markdown",
   "metadata": {},
   "source": [
    "We created two functions that are used for lemmatization of each word, meaning that each word should be changed to its root form. The first function, pos_tagger, defines which word class (POS) a given word belongs to. The function takes an NLTK tag as a parameter and returns a Wordnet POS tag. For example, if the input tag is a Noun, it will return a Wordnet Noun tag. If the input tag doesn't match any of the criteria, the function returns None.\n",
    "\n",
    "Next, we define the function lemmatize_sentence, which is used for lemmatizing sentences. First, we tokenize the sentence with the word_tokenize function from the NLTK library, and secondly, we assign a POS tag to each word with the pos_tag function from the NLTK library. Each POS tag is then converted to a Wordnet POS tag with the beforementioned pos_tagger function. The tokenized words (with their accordingly POS tags) are then stored in a list of tuples.\n",
    "\n",
    "Lastly, we iterate over the beforementioned list and perform lemmatization of each word with the use of the WordNetLemmatizer and its associated POS tag. If the tag is None (meaning it couldn't assign a tag), the word will be added without lemmatization. If the word got a tag, the word is lemmatized. For both cases, we also make sure that the word is not a stopword. If it is the case, then the word will not be added.\n",
    "\n",
    "[Reference: Lemmatizer](https://www.geeksforgeeks.org/python-lemmatization-approaches-with-examples/)"
   ]
  },
  {
   "cell_type": "code",
   "execution_count": 10,
   "metadata": {},
   "outputs": [],
   "source": [
    "# Define the POS tagger function with modifications for handling unavailable tags\n",
    "def pos_tagger(nltk_tag):\n",
    "    if nltk_tag.startswith('J'):\n",
    "        return wordnet.ADJ\n",
    "    elif nltk_tag.startswith('V'):\n",
    "        return wordnet.VERB\n",
    "    elif nltk_tag.startswith('N'):\n",
    "        return wordnet.NOUN\n",
    "    elif nltk_tag.startswith('R'):\n",
    "        return wordnet.ADV\n",
    "    else:\n",
    "        return None  # Use noun as default tag if tag is unavailable''\n",
    "\n",
    "# Define the function to lemmatize each word in a sentence with its POS tag\n",
    "def lemmatize_sentence(sentence):\n",
    "    # Tokenize the sentence and find the POS tag for each token\n",
    "    pos_tagged = nltk.pos_tag(nltk.word_tokenize(sentence))\n",
    "\n",
    "    # Use our own pos_tagger function to make things simpler to understand\n",
    "    wordnet_tagged = list(map(lambda x: (x[0], pos_tagger(x[1])), pos_tagged))\n",
    "\n",
    "    # Lemmatize each word with its POS tag, ignoring stopwords\n",
    "    lemmatized_sentence = []\n",
    "    for word, tag in wordnet_tagged:\n",
    "        if tag is None and word.lower() not in stopword:\n",
    "            # If there is no available tag, append the token as is\n",
    "            lemmatized_sentence.append(word)\n",
    "        else:\n",
    "            # Use the tag to lemmatize the token, ignoring stopwords\n",
    "            if word.lower() not in stopword:\n",
    "                lemmatized_sentence.append(lemmatizer.lemmatize(word, tag))\n",
    "\n",
    "    # Join the lemmatized words into a sentence\n",
    "    return \" \".join(lemmatized_sentence)"
   ]
  },
  {
   "cell_type": "markdown",
   "metadata": {},
   "source": [
    "**Removes any characters that isn't included in the english alphabet.**"
   ]
  },
  {
   "cell_type": "code",
   "execution_count": 11,
   "metadata": {},
   "outputs": [],
   "source": [
    "data[\"Text\"] = data['Text'].str.replace('[^a-zA-Z]',' ', regex=True)"
   ]
  },
  {
   "cell_type": "markdown",
   "metadata": {},
   "source": [
    "We create a new column called \"lemma_text\" that removes all stop words and lemmatizes each word, meaning that each word should be changed to its root form. For instance, the word \"running\" should be changed to \"run\". This is done by calling lemmatize_sencence to the column \"Text\". "
   ]
  },
  {
   "cell_type": "code",
   "execution_count": 12,
   "metadata": {},
   "outputs": [],
   "source": [
    "data['lemma_text'] = data.Text.apply(lemmatize_sentence)"
   ]
  },
  {
   "cell_type": "markdown",
   "metadata": {},
   "source": [
    "Below, we showcase the dataset before and after lemmatization."
   ]
  },
  {
   "cell_type": "code",
   "execution_count": 13,
   "metadata": {},
   "outputs": [
    {
     "data": {
      "text/html": [
       "<div>\n",
       "<style scoped>\n",
       "    .dataframe tbody tr th:only-of-type {\n",
       "        vertical-align: middle;\n",
       "    }\n",
       "\n",
       "    .dataframe tbody tr th {\n",
       "        vertical-align: top;\n",
       "    }\n",
       "\n",
       "    .dataframe thead th {\n",
       "        text-align: right;\n",
       "    }\n",
       "</style>\n",
       "<table border=\"1\" class=\"dataframe\">\n",
       "  <thead>\n",
       "    <tr style=\"text-align: right;\">\n",
       "      <th></th>\n",
       "      <th>Score</th>\n",
       "      <th>Text</th>\n",
       "      <th>label</th>\n",
       "      <th>lemma_text</th>\n",
       "    </tr>\n",
       "  </thead>\n",
       "  <tbody>\n",
       "    <tr>\n",
       "      <th>0</th>\n",
       "      <td>5</td>\n",
       "      <td>I have bought several of the Vitality canned d...</td>\n",
       "      <td>2</td>\n",
       "      <td>buy several Vitality can dog food product find...</td>\n",
       "    </tr>\n",
       "    <tr>\n",
       "      <th>1</th>\n",
       "      <td>1</td>\n",
       "      <td>Product arrived labeled as Jumbo Salted Peanut...</td>\n",
       "      <td>0</td>\n",
       "      <td>Product arrive label Jumbo Salted Peanuts pean...</td>\n",
       "    </tr>\n",
       "    <tr>\n",
       "      <th>2</th>\n",
       "      <td>4</td>\n",
       "      <td>This is a confection that has been around a fe...</td>\n",
       "      <td>2</td>\n",
       "      <td>confection around century light pillowy citrus...</td>\n",
       "    </tr>\n",
       "    <tr>\n",
       "      <th>3</th>\n",
       "      <td>2</td>\n",
       "      <td>If you are looking for the secret ingredient i...</td>\n",
       "      <td>0</td>\n",
       "      <td>look secret ingredient Robitussin believe find...</td>\n",
       "    </tr>\n",
       "    <tr>\n",
       "      <th>4</th>\n",
       "      <td>5</td>\n",
       "      <td>Great taffy at a great price   There was a wid...</td>\n",
       "      <td>2</td>\n",
       "      <td>Great taffy great price wide assortment yummy ...</td>\n",
       "    </tr>\n",
       "    <tr>\n",
       "      <th>...</th>\n",
       "      <td>...</td>\n",
       "      <td>...</td>\n",
       "      <td>...</td>\n",
       "      <td>...</td>\n",
       "    </tr>\n",
       "    <tr>\n",
       "      <th>10109</th>\n",
       "      <td>3</td>\n",
       "      <td>I did not find the smell to be anything but in...</td>\n",
       "      <td>1</td>\n",
       "      <td>find smell anything invite Warm pork rind conc...</td>\n",
       "    </tr>\n",
       "    <tr>\n",
       "      <th>10110</th>\n",
       "      <td>5</td>\n",
       "      <td>Unlike microwave popcorn  you cannot hear the ...</td>\n",
       "      <td>2</td>\n",
       "      <td>Unlike microwave popcorn hear pork skin cook t...</td>\n",
       "    </tr>\n",
       "    <tr>\n",
       "      <th>10111</th>\n",
       "      <td>2</td>\n",
       "      <td>But the taste got sickening quite fast  It als...</td>\n",
       "      <td>0</td>\n",
       "      <td>taste get sicken quite fast also make really w...</td>\n",
       "    </tr>\n",
       "    <tr>\n",
       "      <th>10112</th>\n",
       "      <td>5</td>\n",
       "      <td>I like spicy snacks and this product fills the...</td>\n",
       "      <td>2</td>\n",
       "      <td>like spicy snack product fill bill nicely buy ...</td>\n",
       "    </tr>\n",
       "    <tr>\n",
       "      <th>10113</th>\n",
       "      <td>5</td>\n",
       "      <td>This is a great alternative to microwave popco...</td>\n",
       "      <td>2</td>\n",
       "      <td>great alternative microwave popcorn quick easy...</td>\n",
       "    </tr>\n",
       "  </tbody>\n",
       "</table>\n",
       "<p>10114 rows × 4 columns</p>\n",
       "</div>"
      ],
      "text/plain": [
       "       Score                                               Text  label  \\\n",
       "0          5  I have bought several of the Vitality canned d...      2   \n",
       "1          1  Product arrived labeled as Jumbo Salted Peanut...      0   \n",
       "2          4  This is a confection that has been around a fe...      2   \n",
       "3          2  If you are looking for the secret ingredient i...      0   \n",
       "4          5  Great taffy at a great price   There was a wid...      2   \n",
       "...      ...                                                ...    ...   \n",
       "10109      3  I did not find the smell to be anything but in...      1   \n",
       "10110      5  Unlike microwave popcorn  you cannot hear the ...      2   \n",
       "10111      2  But the taste got sickening quite fast  It als...      0   \n",
       "10112      5  I like spicy snacks and this product fills the...      2   \n",
       "10113      5  This is a great alternative to microwave popco...      2   \n",
       "\n",
       "                                              lemma_text  \n",
       "0      buy several Vitality can dog food product find...  \n",
       "1      Product arrive label Jumbo Salted Peanuts pean...  \n",
       "2      confection around century light pillowy citrus...  \n",
       "3      look secret ingredient Robitussin believe find...  \n",
       "4      Great taffy great price wide assortment yummy ...  \n",
       "...                                                  ...  \n",
       "10109  find smell anything invite Warm pork rind conc...  \n",
       "10110  Unlike microwave popcorn hear pork skin cook t...  \n",
       "10111  taste get sicken quite fast also make really w...  \n",
       "10112  like spicy snack product fill bill nicely buy ...  \n",
       "10113  great alternative microwave popcorn quick easy...  \n",
       "\n",
       "[10114 rows x 4 columns]"
      ]
     },
     "execution_count": 13,
     "metadata": {},
     "output_type": "execute_result"
    }
   ],
   "source": [
    "data"
   ]
  },
  {
   "cell_type": "markdown",
   "metadata": {},
   "source": [
    "## 3. Exploratory Data Analysis\n",
    "\n",
    "In this chapter we aim to present informative visualizations of our dataset that highlight relevant aspects of the data. We will then analyze and interpret these visualizations to gain further insights into the data."
   ]
  },
  {
   "cell_type": "markdown",
   "metadata": {},
   "source": [
    "### Histogram showcasing the distribution of the original \"Score\" column"
   ]
  },
  {
   "cell_type": "code",
   "execution_count": 14,
   "metadata": {},
   "outputs": [
    {
     "data": {
      "image/png": "[encoded data removed]",
      "text/plain": [
       "<Figure size 640x480 with 1 Axes>"
      ]
     },
     "metadata": {},
     "output_type": "display_data"
    }
   ],
   "source": [
    "plt.hist(data.Score, align='mid', bins=[0.5, 1.5, 2.5, 3.5, 4.5, 5.5])\n",
    "plt.xticks([1, 2, 3, 4, 5])#, ['Negative', 'Neutral', 'Positive', 'Positive', 'Positive'])\n",
    "#plt.xlim([0.5, 5.5])\n",
    "plt.xlabel('Score')\n",
    "plt.ylabel('Amount')\n",
    "plt.show()"
   ]
  },
  {
   "cell_type": "markdown",
   "metadata": {},
   "source": [
    "### Piechart showcasing the distribution of the original \"Score\" column"
   ]
  },
  {
   "cell_type": "code",
   "execution_count": 15,
   "metadata": {},
   "outputs": [
    {
     "data": {
      "text/plain": [
       "<AxesSubplot:ylabel='Score'>"
      ]
     },
     "execution_count": 15,
     "metadata": {},
     "output_type": "execute_result"
    },
    {
     "data": {
      "image/png": "[encoded data removed]",
      "text/plain": [
       "<Figure size 500x500 with 1 Axes>"
      ]
     },
     "metadata": {},
     "output_type": "display_data"
    }
   ],
   "source": [
    "plt.figure(figsize=(5,5))\n",
    "data['Score'].value_counts().plot.pie(autopct='%1.1f%%', startangle=60)"
   ]
  },
  {
   "cell_type": "markdown",
   "metadata": {},
   "source": [
    "### Histogram showcasing the distribtuion of the \"label\" column"
   ]
  },
  {
   "cell_type": "code",
   "execution_count": 16,
   "metadata": {},
   "outputs": [
    {
     "data": {
      "image/png": "[encoded data removed]",
      "text/plain": [
       "<Figure size 640x480 with 1 Axes>"
      ]
     },
     "metadata": {},
     "output_type": "display_data"
    }
   ],
   "source": [
    "plt.hist(data.label, align='mid', bins=[-0.5, 0.5, 1.5, 2.5])\n",
    "plt.xticks([0, 1, 2], ['Negative', 'Neutral', 'Positive'])\n",
    "#plt.xlim([-0.5, 2.5])\n",
    "plt.xlabel('Sentiment')\n",
    "plt.ylabel('Amount')\n",
    "plt.show()"
   ]
  },
  {
   "cell_type": "markdown",
   "metadata": {},
   "source": [
    "### Piechart showcasing the distribution of the \"label\" column"
   ]
  },
  {
   "cell_type": "code",
   "execution_count": 17,
   "metadata": {
    "scrolled": true
   },
   "outputs": [
    {
     "data": {
      "text/plain": [
       "<AxesSubplot:ylabel='label'>"
      ]
     },
     "execution_count": 17,
     "metadata": {},
     "output_type": "execute_result"
    },
    {
     "data": {
      "image/png": "[encoded data removed]",
      "text/plain": [
       "<Figure size 400x400 with 1 Axes>"
      ]
     },
     "metadata": {},
     "output_type": "display_data"
    }
   ],
   "source": [
    "plt.figure(figsize=(4,4))\n",
    "data['label'].value_counts().plot.pie(autopct='%1.1f%%', startangle=60)"
   ]
  },
  {
   "cell_type": "markdown",
   "metadata": {},
   "source": [
    "As displayed above, the majority of the labels are valued as positive, and thereby very unbalanced. The different visualizations highlights that our model might be prone to overfitting when trained on this dataset.  \n",
    "\n",
    "The majority of the positive class can bias the model towards certain patterns or phrases, potentially leading to poor generalization performance on the other two classes. The model may be likely to predict the majority class, even when the input text is from a different class.\n",
    "\n",
    "To ensure that we train our model properly, without any potential chances of overfitting or general poor performance, we want to balance out our dataset. \n",
    "\n",
    "We decided to fix this issue by splitting the score equally among the 5 ratings. Because of computational limits and runtime issues, we have chosen to use 2000 reviews from each rating. This made us use the data from the original dataset containing 568.000 ratings."
   ]
  },
  {
   "cell_type": "code",
   "execution_count": 18,
   "metadata": {},
   "outputs": [],
   "source": [
    "path_large = os.path.join(cwd, 'Reviews.csv')\n",
    "data = pd.read_csv(path_large)"
   ]
  },
  {
   "cell_type": "code",
   "execution_count": 19,
   "metadata": {},
   "outputs": [],
   "source": [
    "amount = 2000\n",
    "\n",
    "grouped = data.groupby('Score')\n",
    "\n",
    "data = pd.DataFrame(columns=['Text', 'Score'])\n",
    "\n",
    "for label, group in grouped:\n",
    "    selected_group = group.head(amount)\n",
    "    data = pd.concat([data, selected_group])"
   ]
  },
  {
   "cell_type": "markdown",
   "metadata": {},
   "source": [
    "First, we applied all of the previous mentioned methods for text cleaning on the large dataset. We will demonstrate how we accomplished this, but due to the dataset's size, the runtime was quite lengthy. Therefore, we only performed the process once and saved the result as a new dataset, which we named \"updated_dataframe.csv\"."
   ]
  },
  {
   "cell_type": "code",
   "execution_count": 20,
   "metadata": {},
   "outputs": [],
   "source": [
    "data = data.drop(labels=['Id', 'ProductId', 'UserId', 'ProfileName', 'HelpfulnessNumerator', 'HelpfulnessDenominator', 'Time', 'Summary'], axis=1)\n",
    "data['label'] = data['Score'].apply(lambda x: classify_sentiment(x))\n",
    "data[\"Text\"] = data['Text'].str.replace('[^a-zA-Z]',' ', regex=True)\n",
    "data['lemma_text'] = data.Text.apply(lemmatize_sentence)\n"
   ]
  },
  {
   "cell_type": "code",
   "execution_count": 21,
   "metadata": {},
   "outputs": [],
   "source": [
    "data.to_csv('updated_dataframe.csv', index=False)"
   ]
  },
  {
   "cell_type": "code",
   "execution_count": 22,
   "metadata": {},
   "outputs": [],
   "source": [
    "path_updated = os.path.join(cwd, 'updated_dataframe.csv')\n",
    "data = pd.read_csv(path_updated)"
   ]
  },
  {
   "cell_type": "code",
   "execution_count": 23,
   "metadata": {},
   "outputs": [
    {
     "data": {
      "text/html": [
       "<div>\n",
       "<style scoped>\n",
       "    .dataframe tbody tr th:only-of-type {\n",
       "        vertical-align: middle;\n",
       "    }\n",
       "\n",
       "    .dataframe tbody tr th {\n",
       "        vertical-align: top;\n",
       "    }\n",
       "\n",
       "    .dataframe thead th {\n",
       "        text-align: right;\n",
       "    }\n",
       "</style>\n",
       "<table border=\"1\" class=\"dataframe\">\n",
       "  <thead>\n",
       "    <tr style=\"text-align: right;\">\n",
       "      <th></th>\n",
       "      <th>Text</th>\n",
       "      <th>Score</th>\n",
       "      <th>label</th>\n",
       "      <th>lemma_text</th>\n",
       "    </tr>\n",
       "  </thead>\n",
       "  <tbody>\n",
       "    <tr>\n",
       "      <th>0</th>\n",
       "      <td>Product arrived labeled as Jumbo Salted Peanut...</td>\n",
       "      <td>1</td>\n",
       "      <td>0</td>\n",
       "      <td>Product arrive label Jumbo Salted Peanuts pean...</td>\n",
       "    </tr>\n",
       "    <tr>\n",
       "      <th>1</th>\n",
       "      <td>My cats have been happily eating Felidae Plati...</td>\n",
       "      <td>1</td>\n",
       "      <td>0</td>\n",
       "      <td>cat happily eat Felidae Platinum two year get ...</td>\n",
       "    </tr>\n",
       "    <tr>\n",
       "      <th>2</th>\n",
       "      <td>The candy is just red   No flavor   Just  plan...</td>\n",
       "      <td>1</td>\n",
       "      <td>0</td>\n",
       "      <td>candy red flavor plan chewy would never buy</td>\n",
       "    </tr>\n",
       "    <tr>\n",
       "      <th>3</th>\n",
       "      <td>This oatmeal is not good  Its mushy  soft  I d...</td>\n",
       "      <td>1</td>\n",
       "      <td>0</td>\n",
       "      <td>oatmeal good mushy soft like Quaker Oats way go</td>\n",
       "    </tr>\n",
       "    <tr>\n",
       "      <th>4</th>\n",
       "      <td>Arrived in   days and were so stale i could no...</td>\n",
       "      <td>1</td>\n",
       "      <td>0</td>\n",
       "      <td>Arrived day stale could eat bag</td>\n",
       "    </tr>\n",
       "    <tr>\n",
       "      <th>...</th>\n",
       "      <td>...</td>\n",
       "      <td>...</td>\n",
       "      <td>...</td>\n",
       "      <td>...</td>\n",
       "    </tr>\n",
       "    <tr>\n",
       "      <th>9995</th>\n",
       "      <td>This was my first purchase of this water   It ...</td>\n",
       "      <td>5</td>\n",
       "      <td>2</td>\n",
       "      <td>first purchase water taste great bottle thick ...</td>\n",
       "    </tr>\n",
       "    <tr>\n",
       "      <th>9996</th>\n",
       "      <td>Water tastes good  I typically prefer only pur...</td>\n",
       "      <td>5</td>\n",
       "      <td>2</td>\n",
       "      <td>Water taste good typically prefer purified wat...</td>\n",
       "    </tr>\n",
       "    <tr>\n",
       "      <th>9997</th>\n",
       "      <td>Always glad to see this water delivered to our...</td>\n",
       "      <td>5</td>\n",
       "      <td>2</td>\n",
       "      <td>Always glad see water deliver doorstep drop sp...</td>\n",
       "    </tr>\n",
       "    <tr>\n",
       "      <th>9998</th>\n",
       "      <td>This water is really good       It is reasonab...</td>\n",
       "      <td>5</td>\n",
       "      <td>2</td>\n",
       "      <td>water really good reasonably price mountain sp...</td>\n",
       "    </tr>\n",
       "    <tr>\n",
       "      <th>9999</th>\n",
       "      <td>i thot i was satisfied with the spring water i...</td>\n",
       "      <td>5</td>\n",
       "      <td>2</td>\n",
       "      <td>thot satisfy spring water buy elsewhere buy br...</td>\n",
       "    </tr>\n",
       "  </tbody>\n",
       "</table>\n",
       "<p>10000 rows × 4 columns</p>\n",
       "</div>"
      ],
      "text/plain": [
       "                                                   Text  Score  label  \\\n",
       "0     Product arrived labeled as Jumbo Salted Peanut...      1      0   \n",
       "1     My cats have been happily eating Felidae Plati...      1      0   \n",
       "2     The candy is just red   No flavor   Just  plan...      1      0   \n",
       "3     This oatmeal is not good  Its mushy  soft  I d...      1      0   \n",
       "4     Arrived in   days and were so stale i could no...      1      0   \n",
       "...                                                 ...    ...    ...   \n",
       "9995  This was my first purchase of this water   It ...      5      2   \n",
       "9996  Water tastes good  I typically prefer only pur...      5      2   \n",
       "9997  Always glad to see this water delivered to our...      5      2   \n",
       "9998  This water is really good       It is reasonab...      5      2   \n",
       "9999  i thot i was satisfied with the spring water i...      5      2   \n",
       "\n",
       "                                             lemma_text  \n",
       "0     Product arrive label Jumbo Salted Peanuts pean...  \n",
       "1     cat happily eat Felidae Platinum two year get ...  \n",
       "2           candy red flavor plan chewy would never buy  \n",
       "3       oatmeal good mushy soft like Quaker Oats way go  \n",
       "4                       Arrived day stale could eat bag  \n",
       "...                                                 ...  \n",
       "9995  first purchase water taste great bottle thick ...  \n",
       "9996  Water taste good typically prefer purified wat...  \n",
       "9997  Always glad see water deliver doorstep drop sp...  \n",
       "9998  water really good reasonably price mountain sp...  \n",
       "9999  thot satisfy spring water buy elsewhere buy br...  \n",
       "\n",
       "[10000 rows x 4 columns]"
      ]
     },
     "execution_count": 23,
     "metadata": {},
     "output_type": "execute_result"
    }
   ],
   "source": [
    "data"
   ]
  },
  {
   "cell_type": "markdown",
   "metadata": {},
   "source": [
    "To solve the mentioned issue regarding overfitting we want to balance our dataset. We did that by updating the dataframe so it contains 2000 reviews from each class. The histogram below visualize the new and balanced dataset."
   ]
  },
  {
   "cell_type": "code",
   "execution_count": 24,
   "metadata": {},
   "outputs": [
    {
     "data": {
      "image/png": "[encoded data removed]",
      "text/plain": [
       "<Figure size 640x480 with 1 Axes>"
      ]
     },
     "metadata": {},
     "output_type": "display_data"
    }
   ],
   "source": [
    "plt.hist(data.Score, align='mid', bins=[0.5, 1.5, 2.5, 3.5, 4.5, 5.5], width=0.8)\n",
    "plt.xticks([1, 2, 3, 4, 5])#, ['Negative', 'Neutral', 'Positive', 'Positive', 'Positive'])\n",
    "plt.xlabel('Score')\n",
    "plt.ylabel('Amount')\n",
    "plt.show()"
   ]
  },
  {
   "cell_type": "markdown",
   "metadata": {},
   "source": [
    "## 4. Data Modelling\n",
    "\n",
    "In this section of our report we aim to present our approach to data modelling. We first present how to select features for training and validate our model. Lastly, we discuss our findings and evaluate the results."
   ]
  },
  {
   "cell_type": "markdown",
   "metadata": {},
   "source": [
    "**We select the features we use in our model.**"
   ]
  },
  {
   "cell_type": "code",
   "execution_count": 25,
   "metadata": {},
   "outputs": [],
   "source": [
    "X = np.array(data[\"lemma_text\"]) ## input data, object (string)\n",
    "y = np.array(data[\"label\"]) ## label, int64 "
   ]
  },
  {
   "cell_type": "markdown",
   "metadata": {},
   "source": [
    "Instatiating the two machine learning algorithms Naive Bayes and Support Vector Machines (SVM) for classification tasks.\n",
    "We are currently using both of these machine learning algorithms in our research for our Bachelor project, which lead us to also use the algorithms in this project. We are using Naive Bayes because of its simplicity, fast training time, and computational efficiency. The SVM algorithm is more powerful and gives us the ability to tweak our model in a more customiziable manner. However, we are using the same methods for training both algorithms and SVM should in theory be slower, but more accurate.\n",
    "\n",
    "[Reference: Naive Bayes](https://scikit-learn.org/stable/modules/generated/sklearn.naive_bayes.MultinomialNB.html#sklearn.naive_bayes.MultinomialNB)\n",
    "<br>\n",
    "[Reference: Support Vector Machine](https://scikit-learn.org/stable/modules/generated/sklearn.svm.SVC.html#sklearn.svm.SVC)"
   ]
  },
  {
   "cell_type": "code",
   "execution_count": 26,
   "metadata": {},
   "outputs": [],
   "source": [
    "nb = MultinomialNB() # Instantierer Naives Bayes\n",
    "svm = SVC(kernel='linear') # Instantierer SVM, og sætter dens kernal til linear"
   ]
  },
  {
   "cell_type": "markdown",
   "metadata": {},
   "source": [
    "**Here we split the data into training and test sets. We decide to use 20% of the data for testing.**"
   ]
  },
  {
   "cell_type": "code",
   "execution_count": 27,
   "metadata": {},
   "outputs": [],
   "source": [
    "X_train, X_test, y_train, y_test = train_test_split(X, y, test_size=0.2, random_state=None)"
   ]
  },
  {
   "cell_type": "markdown",
   "metadata": {},
   "source": [
    "Here we make use of count vectorizor since we are working with datasets which concists of words, we transform the words into numeric values. We have chosen an ngram range of 1,2, which means we represent word in the sentence as a singe or combination of two words. For instance the sentence \"I didn't like this shampoo\" is first changed by the ngram range to \"I, didn't, like, this, shampoo\". Secondly, the sentence is also stored as \"I didn't, I like, I this, I shampoo, didn't like, didn't this...\" etc. This continious for every combination of every two words.\n",
    "\n",
    "[Reference: Count Vectorizer](https://scikit-learn.org/stable/modules/generated/sklearn.feature_extraction.text.CountVectorizer.html)"
   ]
  },
  {
   "cell_type": "code",
   "execution_count": 28,
   "metadata": {},
   "outputs": [],
   "source": [
    "vectCount = CountVectorizer(ngram_range=(1,2))"
   ]
  },
  {
   "cell_type": "markdown",
   "metadata": {},
   "source": [
    "Training and testing of the before mentioned algorithms. Initially we create a list called models, storing the names of the algorithms we want to modelize.\n",
    "We then create a function called data_modelling, with two parameters. The first is models, which is the list of algorithms that we want to modelize. The second is vect, and specifics the method that should be used to represent words as numerical values. In our case we only use CountVectorizer as an argument, but other methods for representing the words could be used.\n",
    "\n",
    "Inside the function we iterate over a for loop according to the length of the models list. For each iteration, meaning for each algorithm, we transform the text to numerical values for both the training and test. We then train the model with the text represented as numerical values and their according label.\n",
    "After the first model is trained, the accuracy score gets appended to a list, and the next iteration starts. We finally append all the accuracy scores for both models, and return the list as a DataFrame. This gives a DataFrame showcasing the accuracy for the respective models."
   ]
  },
  {
   "cell_type": "code",
   "execution_count": 29,
   "metadata": {
    "scrolled": true
   },
   "outputs": [],
   "source": [
    "models=[nb, svm]\n",
    "\n",
    "def data_modelling(models,vect):\n",
    "    result_table=[]\n",
    "    for i in range(len(models)):\n",
    "        X_train_vect = vect.fit_transform(X_train)\n",
    "        X_test_vect = vect.transform(X_test)\n",
    "        model = models[i]\n",
    "        model.fit(X_train_vect, y_train)\n",
    "        y_pred_class = model.predict(X_test_vect)\n",
    "        \n",
    "        data={'Accuracy score':metrics.accuracy_score(y_test, y_pred_class)}\n",
    "        \n",
    "        result_table.append(data)  \n",
    "        \n",
    "    df = pd.DataFrame(result_table, index =['Naive Bayes', 'Support Vector Machine'])\n",
    "    return df"
   ]
  },
  {
   "cell_type": "code",
   "execution_count": 30,
   "metadata": {},
   "outputs": [
    {
     "data": {
      "text/html": [
       "<div>\n",
       "<style scoped>\n",
       "    .dataframe tbody tr th:only-of-type {\n",
       "        vertical-align: middle;\n",
       "    }\n",
       "\n",
       "    .dataframe tbody tr th {\n",
       "        vertical-align: top;\n",
       "    }\n",
       "\n",
       "    .dataframe thead th {\n",
       "        text-align: right;\n",
       "    }\n",
       "</style>\n",
       "<table border=\"1\" class=\"dataframe\">\n",
       "  <thead>\n",
       "    <tr style=\"text-align: right;\">\n",
       "      <th></th>\n",
       "      <th>Accuracy score</th>\n",
       "    </tr>\n",
       "  </thead>\n",
       "  <tbody>\n",
       "    <tr>\n",
       "      <th>Naive Bayes</th>\n",
       "      <td>0.706</td>\n",
       "    </tr>\n",
       "    <tr>\n",
       "      <th>Support Vector Machine</th>\n",
       "      <td>0.694</td>\n",
       "    </tr>\n",
       "  </tbody>\n",
       "</table>\n",
       "</div>"
      ],
      "text/plain": [
       "                        Accuracy score\n",
       "Naive Bayes                      0.706\n",
       "Support Vector Machine           0.694"
      ]
     },
     "execution_count": 30,
     "metadata": {},
     "output_type": "execute_result"
    }
   ],
   "source": [
    "data_modelling(models, vectCount)"
   ]
  },
  {
   "cell_type": "markdown",
   "metadata": {},
   "source": [
    "### Performance Evaluation"
   ]
  },
  {
   "cell_type": "code",
   "execution_count": 31,
   "metadata": {},
   "outputs": [],
   "source": [
    "amount = 200\n",
    "\n",
    "small_df = pd.DataFrame(columns=['Text', 'Score'])\n",
    "\n",
    "for label, group in grouped:\n",
    "    selected_group = group.head(amount)\n",
    "    small_df = pd.concat([small_df, selected_group])\n",
    "    \n",
    "small_df['label'] = small_df['Score'].apply(lambda x: classify_sentiment(x))\n",
    "small_df['lemma_text'] = small_df.Text.apply(lemmatize_sentence)\n",
    "\n",
    "X = np.array(small_df[\"lemma_text\"]) ## input data, object (string)\n",
    "y = np.array(small_df[\"label\"]) ## label, int64 \n",
    "nb = MultinomialNB() # Instantierer Naives Bayes\n",
    "svm = SVC(kernel='linear')\n",
    "\n",
    "X_train, X_test, y_train, y_test = train_test_split(X, y, test_size=0.2, random_state=None)\n",
    "\n",
    "def data_modelling_2(models,vect):\n",
    "    result_table=[]\n",
    "    for i in range(len(models)):\n",
    "        X_train_vect = vect.fit_transform(X_train)\n",
    "        X_test_vect = vect.transform(X_test)\n",
    "        model = models[i]\n",
    "        model.fit(X_train_vect, y_train)\n",
    "        y_pred_class = model.predict(X_test_vect)\n",
    "        \n",
    "        data={'Accuracy score':metrics.accuracy_score(y_test, y_pred_class)}\n",
    "        \n",
    "        result_table.append(data)  \n",
    "        \n",
    "    df_2 = pd.DataFrame(result_table, index =['Naive Bayes', 'Support Vector Machine'])\n",
    "    return df_2"
   ]
  },
  {
   "cell_type": "code",
   "execution_count": 32,
   "metadata": {
    "scrolled": false
   },
   "outputs": [
    {
     "data": {
      "text/html": [
       "<div>\n",
       "<style scoped>\n",
       "    .dataframe tbody tr th:only-of-type {\n",
       "        vertical-align: middle;\n",
       "    }\n",
       "\n",
       "    .dataframe tbody tr th {\n",
       "        vertical-align: top;\n",
       "    }\n",
       "\n",
       "    .dataframe thead th {\n",
       "        text-align: right;\n",
       "    }\n",
       "</style>\n",
       "<table border=\"1\" class=\"dataframe\">\n",
       "  <thead>\n",
       "    <tr style=\"text-align: right;\">\n",
       "      <th></th>\n",
       "      <th>Accuracy score</th>\n",
       "    </tr>\n",
       "  </thead>\n",
       "  <tbody>\n",
       "    <tr>\n",
       "      <th>Naive Bayes</th>\n",
       "      <td>0.620</td>\n",
       "    </tr>\n",
       "    <tr>\n",
       "      <th>Support Vector Machine</th>\n",
       "      <td>0.575</td>\n",
       "    </tr>\n",
       "  </tbody>\n",
       "</table>\n",
       "</div>"
      ],
      "text/plain": [
       "                        Accuracy score\n",
       "Naive Bayes                      0.620\n",
       "Support Vector Machine           0.575"
      ]
     },
     "execution_count": 32,
     "metadata": {},
     "output_type": "execute_result"
    }
   ],
   "source": [
    "data_modelling_2(models, vectCount)"
   ]
  },
  {
   "cell_type": "markdown",
   "metadata": {},
   "source": [
    "## 5. Discussion and analysis"
   ]
  },
  {
   "cell_type": "markdown",
   "metadata": {},
   "source": [
    "### SVM vs Naive Bayes\n",
    "\n",
    "\n",
    "We have experimented with the amount of datasets the model should use as training data. In the first model 'data_modelling' the amount of datasets is set to 2000 reviwes for each label, resulting in 10000 datasets in total. Through various tests of our models, we can observe that both models perform evenly with very little difference in accuracy. Accuracy for both of them is around 67-71 which fluctuates for each test. However, the second model that is displayed is using 200 datasets from each label, totalling in 1000 datasets. 'data_modelling_2' is then trained on 20% of the datasets. This results in a decrease of accuracy of around 15% when using both algorithms. \n",
    "\n",
    "\n",
    "Due to the results, we believe that the SVM algorithm is the better choice for this project. Our initial plan for this project was to train the two models on the original dataset containing more than half a million datapoints. However, due to hardware limitations this was not possible. Thereby we found the Naive Bayes algorithm as suitable solution for our case.\n"
   ]
  },
  {
   "cell_type": "markdown",
   "metadata": {},
   "source": [
    "### Our approach\n",
    "\n",
    "Our method which classifies reviews as positive, negative or neutral is based on users’ score ranged between 1-5. The method is based on our own considerations of what would be a fair way to classify the sentiment of reviews, which lead us to use a treshold-based-approach: Reviews with a score below 3 are classified as negative, reviews with a score of 3 are classified as neutral, and reviews with a score above 3 are classified as positive.\n",
    "\n",
    "We believed that a single treshold value for neutral was appropriate for our dataset, but it may not result in a nuanced labelled dataset.\n",
    "\n",
    "An approach to get a more nuanced classification would be to expand the number of sentiment classes from 3 to 5:\n",
    "\n",
    "- 1 - Very negative\n",
    "- 2 - Negative\n",
    "- 3 - Neutral\n",
    "- 4 - Postive\n",
    "- 5 - Very positive\n",
    "\n",
    "This would capture a wider range of sentiments expressed and a more nuanced classification. This might aswell improve the accuracy of our models, however it may require more resources to implement in our methods and longer compile time.\n",
    "\n",
    "Another approach we could have implemented is binary classification, where reviews are classified as positive or negative. Reviews with a score of 3 would be removed from the dataset, as they would not fit into either the positive or negative category:\n",
    "\n",
    "- 1-2 - Negative\n",
    "- 4-5 - Positive\n",
    "\n",
    "This approach would have worked well if the goal was to distinguish between positive and negative sentiment of reviews. I would simplify the classification\tand probably reduce the complexity of the method. But as a contrast to the before mentioned approach, it would not bring a very nuanced classification or capture any neutral sentiment."
   ]
  },
  {
   "cell_type": "markdown",
   "metadata": {},
   "source": [
    "## 6. Conclusion\n",
    "\n",
    "In this assignment, we analyzed and discussed the use of the Naive Bayes and Support Vector Machine algorithms for machine learning classification tasks.\n",
    "\n",
    "We found that using both algorithms with a dataset of 10,000 datapoints was almost equally efficient in terms of the accuracy of both models. However, we conclude that the support vector machine algorithm is more sufficient due to its flexibility in working with datasets of different sizes. This is because the accuracy of the second model built on the support vector machine algorithm is about 15% higher when run on a smaller set.\n",
    "\n",
    "Finally, we would like to shed light on the importance of developing models that contain different algorithms, datasets, sizes, and various approaches to classification. Depending on our approach to this assignment, we are sure we would have seen different results in terms of the model's accuracy. However, we are satisfied with our model's ability to recognize the sentiment of a review, considering our limited data science experience."
   ]
  }
 ],
 "metadata": {
  "kernelspec": {
   "display_name": "Python 3 (ipykernel)",
   "language": "python",
   "name": "python3"
  },
  "language_info": {
   "codemirror_mode": {
    "name": "ipython",
    "version": 3
   },
   "file_extension": ".py",
   "mimetype": "text/x-python",
   "name": "python",
   "nbconvert_exporter": "python",
   "pygments_lexer": "ipython3",
   "version": "3.9.13"
  }
 },
 "nbformat": 4,
 "nbformat_minor": 4
}
