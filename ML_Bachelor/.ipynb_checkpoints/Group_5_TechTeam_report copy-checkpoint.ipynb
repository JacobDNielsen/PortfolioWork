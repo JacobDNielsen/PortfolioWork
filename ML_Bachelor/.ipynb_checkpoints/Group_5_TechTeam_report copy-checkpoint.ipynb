{
 "cells": [
  {
   "cell_type": "markdown",
   "metadata": {},
   "source": [
    "# Data Science and Visualization (RUC F2023)\n",
    "\n",
    "## Miniproject Report"
   ]
  },
  {
   "cell_type": "markdown",
   "metadata": {},
   "source": [
    "## Remarks:\n",
    "\n",
    "1. This template serves as a guideline for structuring your miniproject report. You're supposed to follow the provided sections overall, but you're allowed to make changes or adjustments whenever it's appropriate for your particular project. \n",
    "\n",
    "    * For example, in each section provided below, you may use many cells instead of just one. \n",
    "\n",
    "    * You may also add subsections if you want. If necessary, you can also add or remove sections.\n",
    "\n",
    "\n",
    "2. You should rename this notebook file to 'Group_xxx_report.ipynb' where 'xxx' is your group number in our [padlet] (https://padlet.com/luhua/dsv-f23-mini-project-group-formation-sgw8mxkajzhh0tli). This notebook should be submitted to Digital Exam in time.\n",
    "\n",
    "3. Make sure the data you use is available somewhere and accessible to the examiner and censor. You may upload your data together with this report to Digital Exam, or put it online and provide the URL to it in this report. It's your own responsibility to ensure the data accessibility. \n",
    "\n",
    "4. Any text in '[ ]' throughout the template should be replaced by appropriate content that you're supposed to generate. Also remember to remove the pairs of '[' and ']' in the final report. \n",
    "\n",
    "5. Give sufficient descriptive and explanative information by using Markdown cells and/or comments in Python code.\n",
    "\n",
    "6. Remove this cell in the final report.\n",
    "\n",
    "7. If you have questions, please email to luhua@ruc.dk."
   ]
  },
  {
   "cell_type": "markdown",
   "metadata": {},
   "source": [
    "## NLP for review evaluation\n",
    "\n",
    "## Group Members:\n",
    "* William Grynderup Klindt, RUC, 2023, wgk@ruc.dk\n",
    "* Luchas Schmidt, RUC, 2023, luchas@ruc.dk\n",
    "* Jacob Peter Diesel Nielsen, RUC, 2023, jpn@ruc.dk"
   ]
  },
  {
   "cell_type": "markdown",
   "metadata": {},
   "source": [
    "## Abstract\n",
    "\n",
    "This project aims to classify the sentiment of reviews using an existing dataset from online review platforms such as Trustpilot. We used "
   ]
  },
  {
   "cell_type": "markdown",
   "metadata": {},
   "source": [
    "## 0. Setup and Data\n",
    "\n",
    "Import the modules needed for the project."
   ]
  },
  {
   "cell_type": "code",
   "execution_count": 1,
   "metadata": {},
   "outputs": [
    {
     "name": "stderr",
     "output_type": "stream",
     "text": [
      "[nltk_data] Downloading package omw-1.4 to /Users/home/nltk_data...\n",
      "[nltk_data]   Package omw-1.4 is already up-to-date!\n"
     ]
    }
   ],
   "source": [
    "import matplotlib.pyplot as plt # Library til at visualisere data gennem fx. kordinatsystem\n",
    "import pandas as pd\n",
    "import numpy as np\n",
    "\n",
    "import nltk # (Natural Language Toolkit), library til diverse opgaver, fx. word stemming og tokenization\n",
    "nltk.download('omw-1.4')\n",
    "from nltk.stem import WordNetLemmatizer # Library til lemmatizing af ord (fx. libraries -> library)\n",
    "lemmetizer_output= WordNetLemmatizer()\n",
    "\n",
    "stemmer = nltk.SnowballStemmer(\"english\") # Skal måske ikke bruges længere, vi brugte den til gammel \"twitter cleaner\"?\n",
    "from nltk.corpus import stopwords # Skal måske ikke bruges længere, vi brugte den til gammel \"twitter cleaner\"?\n",
    "import string # Skal måske ikke bruges længere, vi brugte den til gammel \"twitter cleaner\"?\n",
    "\n",
    "stopword=set(stopwords.words('english')) # Set, indeholder engelske stopwords\n",
    "\n",
    "from sklearn.naive_bayes import MultinomialNB # Importerer Naive Bayes algoritme\n",
    "from sklearn.svm import SVC # Importerer SVM algoritme\n",
    "\n",
    "from sklearn.feature_extraction.text import CountVectorizer, TfidfVectorizer\n",
    "from sklearn.model_selection import train_test_split # Importer train_test_split funktionen\n",
    "from sklearn import metrics #Importer metrics funktion, bruges til at udregne accuracy for trænede modeller\n",
    "\n",
    "import timeit # https://docs.python.org/3/library/timeit.html  - Library som bruges til at måle, hvor lang tid det tager at køre en kode \"block\""
   ]
  },
  {
   "cell_type": "markdown",
   "metadata": {},
   "source": [
    "### Data description:\n",
    "This dataset contains approximately 568.000 online Amazon reviews for different amazon products. We have minimized the dataset to approximately 10.000 reviews because we seek to prevent computational and runtime issues.\n",
    "Here is the link for the dataset: https://www.kaggle.com/datasets/jillanisofttech/amazon-product-reviews"
   ]
  },
  {
   "cell_type": "markdown",
   "metadata": {},
   "source": [
    "## 1. Loading the Data\n",
    "\n",
    "Our dataset consists of 10.114 rows and 10 columns."
   ]
  },
  {
   "cell_type": "code",
   "execution_count": 2,
   "metadata": {},
   "outputs": [
    {
     "data": {
      "text/plain": [
       "(10114, 10)"
      ]
     },
     "execution_count": 2,
     "metadata": {},
     "output_type": "execute_result"
    }
   ],
   "source": [
    "data = pd.read_csv('/Users/home/Github_SD/Reviews_small/Reviews_small.csv')\n",
    "data.shape"
   ]
  },
  {
   "cell_type": "markdown",
   "metadata": {},
   "source": [
    "Below is a sample of the full dataset which consists of rows that display each review in the dataset and each column displays the following:\n",
    "- ID\n",
    "- The product ID\n",
    "- The ID of the author who wrote the review\n",
    "- The author's username\n",
    "- Numerator for helpfulness of review\n",
    "- Denominator for helpfulness of review\n",
    "- Product rating\n",
    "- Review time\n",
    "- A title of the review\n",
    "- A descriptive text"
   ]
  },
  {
   "cell_type": "code",
   "execution_count": 3,
   "metadata": {},
   "outputs": [
    {
     "data": {
      "text/html": [
       "<div>\n",
       "<style scoped>\n",
       "    .dataframe tbody tr th:only-of-type {\n",
       "        vertical-align: middle;\n",
       "    }\n",
       "\n",
       "    .dataframe tbody tr th {\n",
       "        vertical-align: top;\n",
       "    }\n",
       "\n",
       "    .dataframe thead th {\n",
       "        text-align: right;\n",
       "    }\n",
       "</style>\n",
       "<table border=\"1\" class=\"dataframe\">\n",
       "  <thead>\n",
       "    <tr style=\"text-align: right;\">\n",
       "      <th></th>\n",
       "      <th>Id</th>\n",
       "      <th>ProductId</th>\n",
       "      <th>UserId</th>\n",
       "      <th>ProfileName</th>\n",
       "      <th>HelpfulnessNumerator</th>\n",
       "      <th>HelpfulnessDenominator</th>\n",
       "      <th>Score</th>\n",
       "      <th>Time</th>\n",
       "      <th>Summary</th>\n",
       "      <th>Text</th>\n",
       "    </tr>\n",
       "  </thead>\n",
       "  <tbody>\n",
       "    <tr>\n",
       "      <th>0</th>\n",
       "      <td>1</td>\n",
       "      <td>B001E4KFG0</td>\n",
       "      <td>A3SGXH7AUHU8GW</td>\n",
       "      <td>delmartian</td>\n",
       "      <td>1</td>\n",
       "      <td>1</td>\n",
       "      <td>5</td>\n",
       "      <td>1303862400</td>\n",
       "      <td>Good Quality Dog Food</td>\n",
       "      <td>I have bought several of the Vitality canned d...</td>\n",
       "    </tr>\n",
       "    <tr>\n",
       "      <th>1</th>\n",
       "      <td>2</td>\n",
       "      <td>B00813GRG4</td>\n",
       "      <td>A1D87F6ZCVE5NK</td>\n",
       "      <td>dll pa</td>\n",
       "      <td>0</td>\n",
       "      <td>0</td>\n",
       "      <td>1</td>\n",
       "      <td>1346976000</td>\n",
       "      <td>Not as Advertised</td>\n",
       "      <td>Product arrived labeled as Jumbo Salted Peanut...</td>\n",
       "    </tr>\n",
       "    <tr>\n",
       "      <th>2</th>\n",
       "      <td>3</td>\n",
       "      <td>B000LQOCH0</td>\n",
       "      <td>ABXLMWJIXXAIN</td>\n",
       "      <td>Natalia Corres \"Natalia Corres\"</td>\n",
       "      <td>1</td>\n",
       "      <td>1</td>\n",
       "      <td>4</td>\n",
       "      <td>1219017600</td>\n",
       "      <td>\"Delight\" says it all</td>\n",
       "      <td>This is a confection that has been around a fe...</td>\n",
       "    </tr>\n",
       "    <tr>\n",
       "      <th>3</th>\n",
       "      <td>4</td>\n",
       "      <td>B000UA0QIQ</td>\n",
       "      <td>A395BORC6FGVXV</td>\n",
       "      <td>Karl</td>\n",
       "      <td>3</td>\n",
       "      <td>3</td>\n",
       "      <td>2</td>\n",
       "      <td>1307923200</td>\n",
       "      <td>Cough Medicine</td>\n",
       "      <td>If you are looking for the secret ingredient i...</td>\n",
       "    </tr>\n",
       "    <tr>\n",
       "      <th>4</th>\n",
       "      <td>5</td>\n",
       "      <td>B006K2ZZ7K</td>\n",
       "      <td>A1UQRSCLF8GW1T</td>\n",
       "      <td>Michael D. Bigham \"M. Wassir\"</td>\n",
       "      <td>0</td>\n",
       "      <td>0</td>\n",
       "      <td>5</td>\n",
       "      <td>1350777600</td>\n",
       "      <td>Great taffy</td>\n",
       "      <td>Great taffy at a great price.  There was a wid...</td>\n",
       "    </tr>\n",
       "    <tr>\n",
       "      <th>...</th>\n",
       "      <td>...</td>\n",
       "      <td>...</td>\n",
       "      <td>...</td>\n",
       "      <td>...</td>\n",
       "      <td>...</td>\n",
       "      <td>...</td>\n",
       "      <td>...</td>\n",
       "      <td>...</td>\n",
       "      <td>...</td>\n",
       "      <td>...</td>\n",
       "    </tr>\n",
       "    <tr>\n",
       "      <th>10109</th>\n",
       "      <td>10110</td>\n",
       "      <td>B003EML8PM</td>\n",
       "      <td>A11LIEOD0VKUDQ</td>\n",
       "      <td>H. Yeldell</td>\n",
       "      <td>0</td>\n",
       "      <td>0</td>\n",
       "      <td>3</td>\n",
       "      <td>1333670400</td>\n",
       "      <td>Very Good Taste but TOO MUCH SALT</td>\n",
       "      <td>I did not find the smell to be anything but in...</td>\n",
       "    </tr>\n",
       "    <tr>\n",
       "      <th>10110</th>\n",
       "      <td>10111</td>\n",
       "      <td>B003EML8PM</td>\n",
       "      <td>A2KZNUJKINCV33</td>\n",
       "      <td>Lynn P Smith</td>\n",
       "      <td>0</td>\n",
       "      <td>0</td>\n",
       "      <td>5</td>\n",
       "      <td>1333584000</td>\n",
       "      <td>Totally wonderful if not overcooked</td>\n",
       "      <td>Unlike microwave popcorn, you cannot hear the ...</td>\n",
       "    </tr>\n",
       "    <tr>\n",
       "      <th>10111</th>\n",
       "      <td>10112</td>\n",
       "      <td>B003EML8PM</td>\n",
       "      <td>AWG67630UAFHL</td>\n",
       "      <td>T. Siu</td>\n",
       "      <td>0</td>\n",
       "      <td>0</td>\n",
       "      <td>2</td>\n",
       "      <td>1332115200</td>\n",
       "      <td>Tasted good the first few bags...</td>\n",
       "      <td>But the taste got sickening quite fast. It als...</td>\n",
       "    </tr>\n",
       "    <tr>\n",
       "      <th>10112</th>\n",
       "      <td>10113</td>\n",
       "      <td>B003EML8PM</td>\n",
       "      <td>A3432KLMRWMLQE</td>\n",
       "      <td>dholco</td>\n",
       "      <td>0</td>\n",
       "      <td>0</td>\n",
       "      <td>5</td>\n",
       "      <td>1331942400</td>\n",
       "      <td>Snacks</td>\n",
       "      <td>I like spicy snacks and this product fills the...</td>\n",
       "    </tr>\n",
       "    <tr>\n",
       "      <th>10113</th>\n",
       "      <td>10114</td>\n",
       "      <td>B003EML8PM</td>\n",
       "      <td>A3MSTGLORHV59A</td>\n",
       "      <td>rhoni4</td>\n",
       "      <td>0</td>\n",
       "      <td>0</td>\n",
       "      <td>5</td>\n",
       "      <td>1331856000</td>\n",
       "      <td>Love these!!!</td>\n",
       "      <td>This is a great alternative to microwave popco...</td>\n",
       "    </tr>\n",
       "  </tbody>\n",
       "</table>\n",
       "<p>10114 rows × 10 columns</p>\n",
       "</div>"
      ],
      "text/plain": [
       "          Id   ProductId          UserId                      ProfileName  \\\n",
       "0          1  B001E4KFG0  A3SGXH7AUHU8GW                       delmartian   \n",
       "1          2  B00813GRG4  A1D87F6ZCVE5NK                           dll pa   \n",
       "2          3  B000LQOCH0   ABXLMWJIXXAIN  Natalia Corres \"Natalia Corres\"   \n",
       "3          4  B000UA0QIQ  A395BORC6FGVXV                             Karl   \n",
       "4          5  B006K2ZZ7K  A1UQRSCLF8GW1T    Michael D. Bigham \"M. Wassir\"   \n",
       "...      ...         ...             ...                              ...   \n",
       "10109  10110  B003EML8PM  A11LIEOD0VKUDQ                       H. Yeldell   \n",
       "10110  10111  B003EML8PM  A2KZNUJKINCV33                     Lynn P Smith   \n",
       "10111  10112  B003EML8PM   AWG67630UAFHL                           T. Siu   \n",
       "10112  10113  B003EML8PM  A3432KLMRWMLQE                           dholco   \n",
       "10113  10114  B003EML8PM  A3MSTGLORHV59A                           rhoni4   \n",
       "\n",
       "       HelpfulnessNumerator  HelpfulnessDenominator  Score        Time  \\\n",
       "0                         1                       1      5  1303862400   \n",
       "1                         0                       0      1  1346976000   \n",
       "2                         1                       1      4  1219017600   \n",
       "3                         3                       3      2  1307923200   \n",
       "4                         0                       0      5  1350777600   \n",
       "...                     ...                     ...    ...         ...   \n",
       "10109                     0                       0      3  1333670400   \n",
       "10110                     0                       0      5  1333584000   \n",
       "10111                     0                       0      2  1332115200   \n",
       "10112                     0                       0      5  1331942400   \n",
       "10113                     0                       0      5  1331856000   \n",
       "\n",
       "                                   Summary  \\\n",
       "0                    Good Quality Dog Food   \n",
       "1                        Not as Advertised   \n",
       "2                    \"Delight\" says it all   \n",
       "3                           Cough Medicine   \n",
       "4                              Great taffy   \n",
       "...                                    ...   \n",
       "10109    Very Good Taste but TOO MUCH SALT   \n",
       "10110  Totally wonderful if not overcooked   \n",
       "10111    Tasted good the first few bags...   \n",
       "10112                               Snacks   \n",
       "10113                        Love these!!!   \n",
       "\n",
       "                                                    Text  \n",
       "0      I have bought several of the Vitality canned d...  \n",
       "1      Product arrived labeled as Jumbo Salted Peanut...  \n",
       "2      This is a confection that has been around a fe...  \n",
       "3      If you are looking for the secret ingredient i...  \n",
       "4      Great taffy at a great price.  There was a wid...  \n",
       "...                                                  ...  \n",
       "10109  I did not find the smell to be anything but in...  \n",
       "10110  Unlike microwave popcorn, you cannot hear the ...  \n",
       "10111  But the taste got sickening quite fast. It als...  \n",
       "10112  I like spicy snacks and this product fills the...  \n",
       "10113  This is a great alternative to microwave popco...  \n",
       "\n",
       "[10114 rows x 10 columns]"
      ]
     },
     "execution_count": 3,
     "metadata": {},
     "output_type": "execute_result"
    }
   ],
   "source": [
    "data"
   ]
  },
  {
   "cell_type": "markdown",
   "metadata": {},
   "source": [
    "## 2. Data Preprocessing\n",
    "\n",
    "Since we downloaded the dataset from Kaggle, they ensured that we received a dataset with zero missing values. \n",
    "Next, we have decided to drop some of the columns that we found irrelevant for the project.\n",
    "\n",
    "These are the columns we removed:"
   ]
  },
  {
   "cell_type": "code",
   "execution_count": 4,
   "metadata": {
    "scrolled": true
   },
   "outputs": [],
   "source": [
    "data = data.drop(labels=['Id', 'ProductId', 'UserId', 'ProfileName', 'HelpfulnessNumerator', 'HelpfulnessDenominator', 'Time', 'Summary'], axis=1)"
   ]
  },
  {
   "cell_type": "markdown",
   "metadata": {},
   "source": [
    "As displayed below, the only columns that we found relevant was the \"Score\" and \"Text\" column."
   ]
  },
  {
   "cell_type": "code",
   "execution_count": 5,
   "metadata": {},
   "outputs": [
    {
     "data": {
      "text/html": [
       "<div>\n",
       "<style scoped>\n",
       "    .dataframe tbody tr th:only-of-type {\n",
       "        vertical-align: middle;\n",
       "    }\n",
       "\n",
       "    .dataframe tbody tr th {\n",
       "        vertical-align: top;\n",
       "    }\n",
       "\n",
       "    .dataframe thead th {\n",
       "        text-align: right;\n",
       "    }\n",
       "</style>\n",
       "<table border=\"1\" class=\"dataframe\">\n",
       "  <thead>\n",
       "    <tr style=\"text-align: right;\">\n",
       "      <th></th>\n",
       "      <th>Score</th>\n",
       "      <th>Text</th>\n",
       "    </tr>\n",
       "  </thead>\n",
       "  <tbody>\n",
       "    <tr>\n",
       "      <th>0</th>\n",
       "      <td>5</td>\n",
       "      <td>I have bought several of the Vitality canned d...</td>\n",
       "    </tr>\n",
       "    <tr>\n",
       "      <th>1</th>\n",
       "      <td>1</td>\n",
       "      <td>Product arrived labeled as Jumbo Salted Peanut...</td>\n",
       "    </tr>\n",
       "    <tr>\n",
       "      <th>2</th>\n",
       "      <td>4</td>\n",
       "      <td>This is a confection that has been around a fe...</td>\n",
       "    </tr>\n",
       "    <tr>\n",
       "      <th>3</th>\n",
       "      <td>2</td>\n",
       "      <td>If you are looking for the secret ingredient i...</td>\n",
       "    </tr>\n",
       "    <tr>\n",
       "      <th>4</th>\n",
       "      <td>5</td>\n",
       "      <td>Great taffy at a great price.  There was a wid...</td>\n",
       "    </tr>\n",
       "    <tr>\n",
       "      <th>...</th>\n",
       "      <td>...</td>\n",
       "      <td>...</td>\n",
       "    </tr>\n",
       "    <tr>\n",
       "      <th>10109</th>\n",
       "      <td>3</td>\n",
       "      <td>I did not find the smell to be anything but in...</td>\n",
       "    </tr>\n",
       "    <tr>\n",
       "      <th>10110</th>\n",
       "      <td>5</td>\n",
       "      <td>Unlike microwave popcorn, you cannot hear the ...</td>\n",
       "    </tr>\n",
       "    <tr>\n",
       "      <th>10111</th>\n",
       "      <td>2</td>\n",
       "      <td>But the taste got sickening quite fast. It als...</td>\n",
       "    </tr>\n",
       "    <tr>\n",
       "      <th>10112</th>\n",
       "      <td>5</td>\n",
       "      <td>I like spicy snacks and this product fills the...</td>\n",
       "    </tr>\n",
       "    <tr>\n",
       "      <th>10113</th>\n",
       "      <td>5</td>\n",
       "      <td>This is a great alternative to microwave popco...</td>\n",
       "    </tr>\n",
       "  </tbody>\n",
       "</table>\n",
       "<p>10114 rows × 2 columns</p>\n",
       "</div>"
      ],
      "text/plain": [
       "       Score                                               Text\n",
       "0          5  I have bought several of the Vitality canned d...\n",
       "1          1  Product arrived labeled as Jumbo Salted Peanut...\n",
       "2          4  This is a confection that has been around a fe...\n",
       "3          2  If you are looking for the secret ingredient i...\n",
       "4          5  Great taffy at a great price.  There was a wid...\n",
       "...      ...                                                ...\n",
       "10109      3  I did not find the smell to be anything but in...\n",
       "10110      5  Unlike microwave popcorn, you cannot hear the ...\n",
       "10111      2  But the taste got sickening quite fast. It als...\n",
       "10112      5  I like spicy snacks and this product fills the...\n",
       "10113      5  This is a great alternative to microwave popco...\n",
       "\n",
       "[10114 rows x 2 columns]"
      ]
     },
     "execution_count": 5,
     "metadata": {},
     "output_type": "execute_result"
    }
   ],
   "source": [
    "data"
   ]
  },
  {
   "cell_type": "markdown",
   "metadata": {},
   "source": [
    "To classify reviews as positive, neutral, or negative, we have created a function that evaluates the score of each review. If the review has a score of 3, we consider it to be neutral. If the score is below 3, such as 1 or 2, we consider it to be a negative review. If the score is greater than 3, we consider it to be a positive review.\n",
    "\n",
    "Below the function, we use a lambda expression to apply the function to each row."
   ]
  },
  {
   "cell_type": "code",
   "execution_count": 6,
   "metadata": {},
   "outputs": [],
   "source": [
    "def classify_sentiment(rating):\n",
    "    if rating == 3:\n",
    "        return 1\n",
    "    elif rating in [1, 2]:\n",
    "        return 0\n",
    "    else:\n",
    "        return 2\n",
    "\n",
    "data['label'] = data['Score'].apply(lambda x: classify_sentiment(x))"
   ]
  },
  {
   "cell_type": "markdown",
   "metadata": {},
   "source": [
    "We then print the name of each column in our dataset to verify that the functions worked as intended."
   ]
  },
  {
   "cell_type": "code",
   "execution_count": 7,
   "metadata": {},
   "outputs": [
    {
     "data": {
      "text/plain": [
       "Index(['Score', 'Text', 'label'], dtype='object')"
      ]
     },
     "execution_count": 7,
     "metadata": {},
     "output_type": "execute_result"
    }
   ],
   "source": [
    "data.columns"
   ]
  },
  {
   "cell_type": "markdown",
   "metadata": {},
   "source": [
    "The dataset now consists of reviews with labels to define the positive, negative, or neutral sentiment of each review. "
   ]
  },
  {
   "cell_type": "code",
   "execution_count": 8,
   "metadata": {},
   "outputs": [
    {
     "data": {
      "text/html": [
       "<div>\n",
       "<style scoped>\n",
       "    .dataframe tbody tr th:only-of-type {\n",
       "        vertical-align: middle;\n",
       "    }\n",
       "\n",
       "    .dataframe tbody tr th {\n",
       "        vertical-align: top;\n",
       "    }\n",
       "\n",
       "    .dataframe thead th {\n",
       "        text-align: right;\n",
       "    }\n",
       "</style>\n",
       "<table border=\"1\" class=\"dataframe\">\n",
       "  <thead>\n",
       "    <tr style=\"text-align: right;\">\n",
       "      <th></th>\n",
       "      <th>Score</th>\n",
       "      <th>Text</th>\n",
       "      <th>label</th>\n",
       "    </tr>\n",
       "  </thead>\n",
       "  <tbody>\n",
       "    <tr>\n",
       "      <th>0</th>\n",
       "      <td>5</td>\n",
       "      <td>I have bought several of the Vitality canned d...</td>\n",
       "      <td>2</td>\n",
       "    </tr>\n",
       "    <tr>\n",
       "      <th>1</th>\n",
       "      <td>1</td>\n",
       "      <td>Product arrived labeled as Jumbo Salted Peanut...</td>\n",
       "      <td>0</td>\n",
       "    </tr>\n",
       "    <tr>\n",
       "      <th>2</th>\n",
       "      <td>4</td>\n",
       "      <td>This is a confection that has been around a fe...</td>\n",
       "      <td>2</td>\n",
       "    </tr>\n",
       "    <tr>\n",
       "      <th>3</th>\n",
       "      <td>2</td>\n",
       "      <td>If you are looking for the secret ingredient i...</td>\n",
       "      <td>0</td>\n",
       "    </tr>\n",
       "    <tr>\n",
       "      <th>4</th>\n",
       "      <td>5</td>\n",
       "      <td>Great taffy at a great price.  There was a wid...</td>\n",
       "      <td>2</td>\n",
       "    </tr>\n",
       "    <tr>\n",
       "      <th>...</th>\n",
       "      <td>...</td>\n",
       "      <td>...</td>\n",
       "      <td>...</td>\n",
       "    </tr>\n",
       "    <tr>\n",
       "      <th>10109</th>\n",
       "      <td>3</td>\n",
       "      <td>I did not find the smell to be anything but in...</td>\n",
       "      <td>1</td>\n",
       "    </tr>\n",
       "    <tr>\n",
       "      <th>10110</th>\n",
       "      <td>5</td>\n",
       "      <td>Unlike microwave popcorn, you cannot hear the ...</td>\n",
       "      <td>2</td>\n",
       "    </tr>\n",
       "    <tr>\n",
       "      <th>10111</th>\n",
       "      <td>2</td>\n",
       "      <td>But the taste got sickening quite fast. It als...</td>\n",
       "      <td>0</td>\n",
       "    </tr>\n",
       "    <tr>\n",
       "      <th>10112</th>\n",
       "      <td>5</td>\n",
       "      <td>I like spicy snacks and this product fills the...</td>\n",
       "      <td>2</td>\n",
       "    </tr>\n",
       "    <tr>\n",
       "      <th>10113</th>\n",
       "      <td>5</td>\n",
       "      <td>This is a great alternative to microwave popco...</td>\n",
       "      <td>2</td>\n",
       "    </tr>\n",
       "  </tbody>\n",
       "</table>\n",
       "<p>10114 rows × 3 columns</p>\n",
       "</div>"
      ],
      "text/plain": [
       "       Score                                               Text  label\n",
       "0          5  I have bought several of the Vitality canned d...      2\n",
       "1          1  Product arrived labeled as Jumbo Salted Peanut...      0\n",
       "2          4  This is a confection that has been around a fe...      2\n",
       "3          2  If you are looking for the secret ingredient i...      0\n",
       "4          5  Great taffy at a great price.  There was a wid...      2\n",
       "...      ...                                                ...    ...\n",
       "10109      3  I did not find the smell to be anything but in...      1\n",
       "10110      5  Unlike microwave popcorn, you cannot hear the ...      2\n",
       "10111      2  But the taste got sickening quite fast. It als...      0\n",
       "10112      5  I like spicy snacks and this product fills the...      2\n",
       "10113      5  This is a great alternative to microwave popco...      2\n",
       "\n",
       "[10114 rows x 3 columns]"
      ]
     },
     "execution_count": 8,
     "metadata": {},
     "output_type": "execute_result"
    }
   ],
   "source": [
    "data"
   ]
  },
  {
   "cell_type": "markdown",
   "metadata": {},
   "source": [
    "To ensure that each row contains a value for each column, we use the info() method from Pandas. We also verify that the \"label\" column only consists of integer values."
   ]
  },
  {
   "cell_type": "code",
   "execution_count": 9,
   "metadata": {},
   "outputs": [
    {
     "name": "stdout",
     "output_type": "stream",
     "text": [
      "<class 'pandas.core.frame.DataFrame'>\n",
      "RangeIndex: 10114 entries, 0 to 10113\n",
      "Data columns (total 3 columns):\n",
      " #   Column  Non-Null Count  Dtype \n",
      "---  ------  --------------  ----- \n",
      " 0   Score   10114 non-null  int64 \n",
      " 1   Text    10114 non-null  object\n",
      " 2   label   10114 non-null  int64 \n",
      "dtypes: int64(2), object(1)\n",
      "memory usage: 237.2+ KB\n"
     ]
    }
   ],
   "source": [
    "data.info()"
   ]
  },
  {
   "cell_type": "markdown",
   "metadata": {},
   "source": [
    "### Text cleaning\n",
    "We seek to clean our datasets text in order to optimize the training model. We found that our text data contained various noise and unwanted characters such as punctuation, stop words, and special characters which could potentially affect the quality of the classification process. "
   ]
  },
  {
   "cell_type": "markdown",
   "metadata": {},
   "source": [
    "**Removes any characters that isn't included in the english alphabet.**"
   ]
  },
  {
   "cell_type": "code",
   "execution_count": 10,
   "metadata": {},
   "outputs": [],
   "source": [
    "data[\"Text\"] = data['Text'].str.replace('[^a-zA-Z]',' ', regex=True)"
   ]
  },
  {
   "cell_type": "markdown",
   "metadata": {},
   "source": [
    "**We create a new column called \"word_token\" and use the NLTK tokenizer to tokenize the sentences in the \"Text\" column. A lambda expression goes through each row and tokenizes each sentence. Each row that has been tokenized is now saved in the 'word_token' column using the apply() method from Pandas.**"
   ]
  },
  {
   "cell_type": "code",
   "execution_count": 11,
   "metadata": {},
   "outputs": [],
   "source": [
    "data['word_token'] = data['Text'].apply(lambda x: nltk.word_tokenize(x) ) "
   ]
  },
  {
   "cell_type": "markdown",
   "metadata": {},
   "source": [
    "**We create a new column called \"lem_text\" that removes all stop words and lemmatizes each word, meaning that each word should be changed to its root form. For instance, the word \"running\" should be changed to \"run\". \n",
    "Below, we showcase the dataset before and after lemmatization.**"
   ]
  },
  {
   "cell_type": "code",
   "execution_count": 12,
   "metadata": {},
   "outputs": [],
   "source": [
    "data['lem_text'] = data['word_token'].apply(lambda x: [lemmetizer_output.lemmatize(j) for j in x if not j in set(stopword)] )"
   ]
  },
  {
   "cell_type": "code",
   "execution_count": 13,
   "metadata": {},
   "outputs": [
    {
     "data": {
      "text/plain": [
       "0        [I, have, bought, several, of, the, Vitality, ...\n",
       "1        [Product, arrived, labeled, as, Jumbo, Salted,...\n",
       "2        [This, is, a, confection, that, has, been, aro...\n",
       "3        [If, you, are, looking, for, the, secret, ingr...\n",
       "4        [Great, taffy, at, a, great, price, There, was...\n",
       "                               ...                        \n",
       "10109    [I, did, not, find, the, smell, to, be, anythi...\n",
       "10110    [Unlike, microwave, popcorn, you, can, not, he...\n",
       "10111    [But, the, taste, got, sickening, quite, fast,...\n",
       "10112    [I, like, spicy, snacks, and, this, product, f...\n",
       "10113    [This, is, a, great, alternative, to, microwav...\n",
       "Name: word_token, Length: 10114, dtype: object"
      ]
     },
     "execution_count": 13,
     "metadata": {},
     "output_type": "execute_result"
    }
   ],
   "source": [
    "data.word_token"
   ]
  },
  {
   "cell_type": "code",
   "execution_count": 14,
   "metadata": {
    "scrolled": false
   },
   "outputs": [
    {
     "data": {
      "text/plain": [
       "0        [I, bought, several, Vitality, canned, dog, fo...\n",
       "1        [Product, arrived, labeled, Jumbo, Salted, Pea...\n",
       "2        [This, confection, around, century, It, light,...\n",
       "3        [If, looking, secret, ingredient, Robitussin, ...\n",
       "4        [Great, taffy, great, price, There, wide, asso...\n",
       "                               ...                        \n",
       "10109    [I, find, smell, anything, inviting, Warm, por...\n",
       "10110    [Unlike, microwave, popcorn, hear, pork, skin,...\n",
       "10111    [But, taste, got, sickening, quite, fast, It, ...\n",
       "10112    [I, like, spicy, snack, product, fill, bill, n...\n",
       "10113    [This, great, alternative, microwave, popcorn,...\n",
       "Name: lem_text, Length: 10114, dtype: object"
      ]
     },
     "execution_count": 14,
     "metadata": {},
     "output_type": "execute_result"
    }
   ],
   "source": [
    "data.lem_text"
   ]
  },
  {
   "cell_type": "markdown",
   "metadata": {},
   "source": [
    "**Create a new row in the dataset, named \"cleaned_text\", that contains the processed and finalized text data as a complete sentence.**"
   ]
  },
  {
   "cell_type": "code",
   "execution_count": 15,
   "metadata": {},
   "outputs": [],
   "source": [
    "data['cleaned_text'] = data['lem_text'].apply(lambda x: ' '.join(x) ) "
   ]
  },
  {
   "cell_type": "code",
   "execution_count": 16,
   "metadata": {},
   "outputs": [
    {
     "data": {
      "text/plain": [
       "0        I bought several Vitality canned dog food prod...\n",
       "1        Product arrived labeled Jumbo Salted Peanuts p...\n",
       "2        This confection around century It light pillow...\n",
       "3        If looking secret ingredient Robitussin I beli...\n",
       "4        Great taffy great price There wide assortment ...\n",
       "                               ...                        \n",
       "10109    I find smell anything inviting Warm pork rind ...\n",
       "10110    Unlike microwave popcorn hear pork skin cookin...\n",
       "10111    But taste got sickening quite fast It also mak...\n",
       "10112    I like spicy snack product fill bill nicely I ...\n",
       "10113    This great alternative microwave popcorn This ...\n",
       "Name: cleaned_text, Length: 10114, dtype: object"
      ]
     },
     "execution_count": 16,
     "metadata": {},
     "output_type": "execute_result"
    }
   ],
   "source": [
    "data.cleaned_text"
   ]
  },
  {
   "cell_type": "markdown",
   "metadata": {},
   "source": [
    "## 3. Exploratory Data Analysis\n",
    "\n",
    "In this chapter we aim to present informative visualizations of our dataset that highlight relevant aspects of the data. We will then analyze and interpret these visualizations to gain further insights into the data."
   ]
  },
  {
   "cell_type": "markdown",
   "metadata": {},
   "source": [
    "### Histogram showcasing the distribution of the original \"Score\" column"
   ]
  },
  {
   "cell_type": "code",
   "execution_count": 17,
   "metadata": {},
   "outputs": [
    {
     "data": {
      "image/png": "[encoded data removed]",
      "text/plain": [
       "<Figure size 640x480 with 1 Axes>"
      ]
     },
     "metadata": {},
     "output_type": "display_data"
    }
   ],
   "source": [
    "plt.hist(data.Score, align='mid', bins=[0.5, 1.5, 2.5, 3.5, 4.5, 5.5])\n",
    "plt.xticks([1, 2, 3, 4, 5])#, ['Negative', 'Neutral', 'Positive', 'Positive', 'Positive'])\n",
    "#plt.xlim([0.5, 5.5])\n",
    "plt.xlabel('Score')\n",
    "plt.ylabel('Amount')\n",
    "plt.show()"
   ]
  },
  {
   "cell_type": "markdown",
   "metadata": {},
   "source": [
    "### Piechart showcasing the distribution of the original \"Score\" column"
   ]
  },
  {
   "cell_type": "code",
   "execution_count": 18,
   "metadata": {},
   "outputs": [
    {
     "data": {
      "text/plain": [
       "<AxesSubplot:ylabel='Score'>"
      ]
     },
     "execution_count": 18,
     "metadata": {},
     "output_type": "execute_result"
    },
    {
     "data": {
      "image/png": "[encoded data removed]",
      "text/plain": [
       "<Figure size 500x500 with 1 Axes>"
      ]
     },
     "metadata": {},
     "output_type": "display_data"
    }
   ],
   "source": [
    "plt.figure(figsize=(5,5))\n",
    "data['Score'].value_counts().plot.pie(autopct='%1.1f%%', startangle=60)"
   ]
  },
  {
   "cell_type": "markdown",
   "metadata": {},
   "source": [
    "### Histogram showcasing the distribtuion of the \"label\" column"
   ]
  },
  {
   "cell_type": "code",
   "execution_count": 19,
   "metadata": {},
   "outputs": [
    {
     "data": {
      "image/png": "[encoded data removed]",
      "text/plain": [
       "<Figure size 640x480 with 1 Axes>"
      ]
     },
     "metadata": {},
     "output_type": "display_data"
    }
   ],
   "source": [
    "plt.hist(data.label, align='mid', bins=[-0.5, 0.5, 1.5, 2.5])\n",
    "plt.xticks([0, 1, 2], ['Negative', 'Neutral', 'Positive'])\n",
    "#plt.xlim([-0.5, 2.5])\n",
    "plt.xlabel('Sentiment')\n",
    "plt.ylabel('Amount')\n",
    "plt.show()"
   ]
  },
  {
   "cell_type": "markdown",
   "metadata": {},
   "source": [
    "### Piechart showcasing the distribution of the \"label\" column"
   ]
  },
  {
   "cell_type": "code",
   "execution_count": 20,
   "metadata": {
    "scrolled": true
   },
   "outputs": [
    {
     "data": {
      "text/plain": [
       "<AxesSubplot:ylabel='label'>"
      ]
     },
     "execution_count": 20,
     "metadata": {},
     "output_type": "execute_result"
    },
    {
     "data": {
      "image/png": "[encoded data removed]",
      "text/plain": [
       "<Figure size 400x400 with 1 Axes>"
      ]
     },
     "metadata": {},
     "output_type": "display_data"
    }
   ],
   "source": [
    "plt.figure(figsize=(4,4))\n",
    "data['label'].value_counts().plot.pie(autopct='%1.1f%%', startangle=60)"
   ]
  },
  {
   "cell_type": "markdown",
   "metadata": {},
   "source": [
    "As displayed above, the majority of the labels are valued as positive, and thereby very unbalanced. The different visualizations highlights that our model might be prone to overfitting when trained on this dataset.  \n",
    "\n",
    "The majority of the positive class can bias the model towards certain patterns or phrases, potentially leading to poor generalization performance on the other two classes. The model may be likely to predict the majority class, even when the input text is from a different class.\n",
    "\n",
    "To ensure that we train our model properly, without any potential chances of overfitting or general poor performance, we want to balance out our dataset. \n",
    "\n",
    "We decided to fix this issue by splitting the score equally among the 5 ratings. Because of computational limits and runtime issues, we have chosen to use 2000 reviews from each rating. This made us use the data from the original dataset containing 568.000 ratings."
   ]
  },
  {
   "cell_type": "code",
   "execution_count": 21,
   "metadata": {},
   "outputs": [],
   "source": [
    "##data = pd.read_csv('/Users/home/Github_SD/Reviews_small/Reviews.csv')"
   ]
  },
  {
   "cell_type": "markdown",
   "metadata": {},
   "source": [
    "First, we applied all of the previous mentioned methods for text cleaning on the large dataset. We will demonstrate how we accomplished this, but due to the dataset's size, the runtime was quite lengthy. Therefore, we only performed the process once and saved the result as a new dataset, which we named \"updated_dataframe.csv\"."
   ]
  },
  {
   "cell_type": "code",
   "execution_count": 22,
   "metadata": {},
   "outputs": [],
   "source": [
    "##data = data.drop(labels=['Id', 'ProductId', 'UserId', 'ProfileName', 'HelpfulnessNumerator', 'HelpfulnessDenominator', 'Time', 'Summary'], axis=1)\n",
    "##data['label'] = data['Score'].apply(lambda x: classify_sentiment(x))\n",
    "##data[\"Text\"] = data['Text'].str.replace('[^a-zA-Z]',' ', regex=True)\n",
    "##data['word_token'] = data['Text'].apply(lambda x: nltk.word_tokenize(x) )\n",
    "##data['lem_text'] = data['word_token'].apply(lambda x: [lemmetizer_output.lemmatize(j) for j in x if not j in set(stopword)] )\n",
    "##data['cleaned_text'] = data['lem_text'].apply(lambda x: ' '.join(x) ) "
   ]
  },
  {
   "cell_type": "code",
   "execution_count": 23,
   "metadata": {},
   "outputs": [],
   "source": [
    "data.to_csv('updated_dataframe.csv', index=False)"
   ]
  },
  {
   "cell_type": "code",
   "execution_count": 24,
   "metadata": {},
   "outputs": [],
   "source": [
    "data = pd.read_csv('/Users/home/Github_SD/Reviews_small/updated_dataframe.csv')"
   ]
  },
  {
   "cell_type": "markdown",
   "metadata": {},
   "source": [
    "To solve the mentioned issue regarding overfitting we want to balance our dataset. We did that by updating the dataframe so it contains 2000 reviews from each class."
   ]
  },
  {
   "cell_type": "code",
   "execution_count": 25,
   "metadata": {},
   "outputs": [],
   "source": [
    "amount = 2000\n",
    "\n",
    "grouped = data.groupby('Score')\n",
    "\n",
    "equalized_df = pd.DataFrame(columns=['cleaned_text', 'Score'])\n",
    "\n",
    "for label, group in grouped:\n",
    "    selected_group = group.head(amount)\n",
    "    equalized_df = pd.concat([equalized_df, selected_group])"
   ]
  },
  {
   "cell_type": "markdown",
   "metadata": {},
   "source": [
    "The histogram below visualize the new and balanced dataset"
   ]
  },
  {
   "cell_type": "code",
   "execution_count": 26,
   "metadata": {},
   "outputs": [
    {
     "data": {
      "image/png": "[encoded data removed]",
      "text/plain": [
       "<Figure size 640x480 with 1 Axes>"
      ]
     },
     "metadata": {},
     "output_type": "display_data"
    }
   ],
   "source": [
    "plt.hist(equalized_df.Score, align='mid', bins=[0.5, 1.5, 2.5, 3.5, 4.5, 5.5], width=0.8)\n",
    "plt.xticks([1, 2, 3, 4, 5])#, ['Negative', 'Neutral', 'Positive', 'Positive', 'Positive'])\n",
    "plt.xlabel('Score')\n",
    "plt.ylabel('Amount')\n",
    "plt.show()"
   ]
  },
  {
   "cell_type": "markdown",
   "metadata": {},
   "source": [
    "## 4. Data Modelling\n",
    "\n",
    "[Below you apply machine learning models and other data science methods to your data, e.g., classification, regression, clustering, and association rule mining. You should do at least one of them. Give a description of what you do here.]"
   ]
  },
  {
   "cell_type": "markdown",
   "metadata": {},
   "source": [
    "### 4.1. Feature Selection\n",
    "\n",
    "[Decide which features you want to use and obtain them properly from the original data.]"
   ]
  },
  {
   "cell_type": "code",
   "execution_count": 27,
   "metadata": {},
   "outputs": [],
   "source": [
    "X = np.array(equalized_df[\"cleaned_text\"]) ## input data, object (string)\n",
    "y = np.array(equalized_df[\"label\"]) ## label, int64 "
   ]
  },
  {
   "cell_type": "markdown",
   "metadata": {},
   "source": [
    "### 4.2 Model Construction and Validation\n",
    "\n",
    "[Construct the model and validate the model design if necessary.]"
   ]
  },
  {
   "cell_type": "code",
   "execution_count": 28,
   "metadata": {},
   "outputs": [],
   "source": [
    "nb = MultinomialNB() # Instantierer Naives Bayes\n",
    "svm = SVC(kernel='linear', probability=True) # Instantierer SVM, og sætter dens kernal til linear"
   ]
  },
  {
   "cell_type": "code",
   "execution_count": 29,
   "metadata": {},
   "outputs": [],
   "source": [
    "X_train, X_test, y_train, y_test = train_test_split(X, y, test_size=0.2, random_state=None)"
   ]
  },
  {
   "cell_type": "code",
   "execution_count": 30,
   "metadata": {},
   "outputs": [],
   "source": [
    "vectCount = CountVectorizer(ngram_range=(1,2)) ## ngram_range, betyder her at CountVectorizer objekt både gemmer \"single words\" og bigrams (flere ord i træk)\n",
    "\n",
    "vectTf = TfidfVectorizer(ngram_range=(1,2)) #Burde være bedre, men tager 8 min at compile med stort datasæt"
   ]
  },
  {
   "cell_type": "code",
   "execution_count": 31,
   "metadata": {
    "scrolled": true
   },
   "outputs": [],
   "source": [
    "models=[nb, svm]\n",
    "\n",
    "def tokenize_test(models,vect):\n",
    "    row_list=[]\n",
    "    for i in range(len(models)):\n",
    "        X_train_vect = vect.fit_transform(X_train)\n",
    "        X_test_vect = vect.transform(X_test)\n",
    "        nb = models[i]\n",
    "        nb.fit(X_train_vect, y_train)\n",
    "        y_pred_class = nb.predict(X_test_vect)\n",
    "        \n",
    "        data={'accuracy_score':metrics.accuracy_score(y_test, y_pred_class)}\n",
    "        \n",
    "        if isinstance(nb, MultinomialNB):\n",
    "            # Hvis model er MultinomialNB...\n",
    "            \n",
    "            #Bruger predict_proba\n",
    "            # Og viser de første par predict_proba værdier fra datasættet\n",
    "            print(\"-------Naive Bayes--------\")\n",
    "            print(\"Predicted probabilities:\\n{}\".format(nb.predict_proba(X_test_vect)[:6]))\n",
    "            # Viser at summen blandt rækkerne er 1 (100%)\n",
    "            print(\"Sums: {}\".format(nb.predict_proba(X_test_vect)[:6].sum(axis=1)))\n",
    "    \n",
    "            #Ovenstående virker også, men giver tallene i Log (så vi kan ikke rigtigt sammenligne noget)\n",
    "            #Udregner argmax, hvilket giver den højeste værdi. Med andre ord den label, som er mest sandsynlig\n",
    "            print(\"Argmax of predicted probabilities:\\n{}\".format(\n",
    "                np.argmax(nb.predict_proba(X_test_vect), axis=1)))\n",
    "            # Printer predict værdi, så denne kan sammenlignes med værdi fra Argmax\n",
    "            print(\"Predictions:\\n{}\".format(nb.predict(X_test_vect)))\n",
    "\n",
    "        else:\n",
    "            # Hvis model er SVM...\n",
    "            print(\"-------SVM--------\") # Predict_proba for SVM bruger crossvalidation. Derfor kan resultat være lidt anderledes end predict, og dette skal undersøges i næste iteration.\n",
    "            print(\"Predicted probabilities:\\n{}\".format(nb.predict_proba(X_test_vect)[:6]))\n",
    "            # show that sums across rows are one\n",
    "            print(\"Sums: {}\".format(nb.predict_proba(X_test_vect)[:6].sum(axis=1)))\n",
    "    \n",
    "            #Ovenstående virker også, men giver tallene i Log (så vi kan ikke rigtigt sammenligne noget)\n",
    "    \n",
    "            print(\"Argmax of predicted probabilities:\\n{}\".format(\n",
    "                np.argmax(nb.predict_proba(X_test_vect), axis=1)))\n",
    "            print(\"Predictions:\\n{}\".format(nb.predict(X_test_vect)))\n",
    "       \n",
    "        \n",
    "        row_list.append(data) ## Tilføjer den trænede models accuracy til listen \"row_list\",  \n",
    "        \n",
    "    df = pd.DataFrame(row_list, index =['nb', 'svm'])\n",
    "    print(df) # printer df, som viser de forskellige algoritmers accuracy_score \n",
    "    return df"
   ]
  },
  {
   "cell_type": "code",
   "execution_count": 32,
   "metadata": {},
   "outputs": [
    {
     "name": "stdout",
     "output_type": "stream",
     "text": [
      "-------Naive Bayes--------\n",
      "Predicted probabilities:\n",
      "[[1.53556145e-05 6.75889073e-06 9.99977885e-01]\n",
      " [9.11045633e-01 1.08775881e-02 7.80767787e-02]\n",
      " [3.28168751e-02 5.88640060e-03 9.61296724e-01]\n",
      " [8.55277316e-02 5.03111403e-03 9.09441154e-01]\n",
      " [9.97098317e-01 6.08842118e-04 2.29284076e-03]\n",
      " [2.55907289e-01 1.23940230e-02 7.31698688e-01]]\n",
      "Sums: [1. 1. 1. 1. 1. 1.]\n",
      "Argmax of predicted probabilities:\n",
      "[2 0 2 2 0 2 2 0 0 0 2 0 0 0 2 1 2 2 2 0]\n",
      "Predictions:\n",
      "[2. 0. 2. 2. 0. 2. 2. 0. 0. 0. 2. 0. 0. 0. 2. 1. 2. 2. 2. 0.]\n",
      "-------SVM--------\n",
      "Predicted probabilities:\n",
      "[[0.07809213 0.16252189 0.75938598]\n",
      " [0.46873543 0.18057309 0.35069148]\n",
      " [0.33011085 0.17615956 0.49372959]\n",
      " [0.47077608 0.17597629 0.35324763]\n",
      " [0.67427423 0.19330679 0.13241898]\n",
      " [0.45135048 0.17697719 0.37167233]]\n",
      "Sums: [1. 1. 1. 1. 1. 1.]\n",
      "Argmax of predicted probabilities:\n",
      "[2 0 2 0 0 0 0 0 0 0 2 2 0 0 2 0 0 2 2 2]\n",
      "Predictions:\n",
      "[2. 0. 2. 0. 0. 0. 0. 0. 0. 0. 2. 2. 0. 0. 2. 0. 0. 2. 2. 2.]\n",
      "     accuracy_score\n",
      "nb             0.55\n",
      "svm            0.55\n"
     ]
    },
    {
     "data": {
      "text/html": [
       "<div>\n",
       "<style scoped>\n",
       "    .dataframe tbody tr th:only-of-type {\n",
       "        vertical-align: middle;\n",
       "    }\n",
       "\n",
       "    .dataframe tbody tr th {\n",
       "        vertical-align: top;\n",
       "    }\n",
       "\n",
       "    .dataframe thead th {\n",
       "        text-align: right;\n",
       "    }\n",
       "</style>\n",
       "<table border=\"1\" class=\"dataframe\">\n",
       "  <thead>\n",
       "    <tr style=\"text-align: right;\">\n",
       "      <th></th>\n",
       "      <th>accuracy_score</th>\n",
       "    </tr>\n",
       "  </thead>\n",
       "  <tbody>\n",
       "    <tr>\n",
       "      <th>nb</th>\n",
       "      <td>0.55</td>\n",
       "    </tr>\n",
       "    <tr>\n",
       "      <th>svm</th>\n",
       "      <td>0.55</td>\n",
       "    </tr>\n",
       "  </tbody>\n",
       "</table>\n",
       "</div>"
      ],
      "text/plain": [
       "     accuracy_score\n",
       "nb             0.55\n",
       "svm            0.55"
      ]
     },
     "execution_count": 32,
     "metadata": {},
     "output_type": "execute_result"
    }
   ],
   "source": [
    "tokenize_test(models, vectCount)"
   ]
  },
  {
   "cell_type": "markdown",
   "metadata": {},
   "source": [
    "### 4.3 Model Application and Performance Evaluation\n",
    "\n",
    "[Apply the model and evaluate its performance]"
   ]
  },
  {
   "cell_type": "code",
   "execution_count": null,
   "metadata": {},
   "outputs": [],
   "source": []
  },
  {
   "cell_type": "markdown",
   "metadata": {},
   "source": [
    "### 4.4 Visualize and Analyze Your Results/Findings from Data Modelling\n",
    "\n",
    "[Here you may visualize the modeling results, and/or analyze/interprete its meanings.]"
   ]
  },
  {
   "cell_type": "code",
   "execution_count": 33,
   "metadata": {},
   "outputs": [],
   "source": [
    "#tester\n"
   ]
  },
  {
   "cell_type": "markdown",
   "metadata": {},
   "source": [
    "## 5. Conclusion and Discussion\n",
    "\n",
    "[Here you may draw your conclusion based on the previous sections, and discuss the pros and cons of the project, and propose something for future work.]"
   ]
  },
  {
   "cell_type": "code",
   "execution_count": null,
   "metadata": {},
   "outputs": [],
   "source": []
  }
 ],
 "metadata": {
  "kernelspec": {
   "display_name": "Python 3 (ipykernel)",
   "language": "python",
   "name": "python3"
  },
  "language_info": {
   "codemirror_mode": {
    "name": "ipython",
    "version": 3
   },
   "file_extension": ".py",
   "mimetype": "text/x-python",
   "name": "python",
   "nbconvert_exporter": "python",
   "pygments_lexer": "ipython3",
   "version": "3.9.13"
  }
 },
 "nbformat": 4,
 "nbformat_minor": 4
}
