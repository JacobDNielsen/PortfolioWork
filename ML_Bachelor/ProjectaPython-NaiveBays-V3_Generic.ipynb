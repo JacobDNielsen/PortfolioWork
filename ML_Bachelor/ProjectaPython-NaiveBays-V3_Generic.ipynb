{
 "cells": [
  {
   "cell_type": "markdown",
   "id": "084ca1b3",
   "metadata": {},
   "source": [
    "# Hate speech NLP classification model\n",
    "\n",
    "By William, Jacob & Luchas\n",
    "\n",
    "Inspiration til valg af classifiers: https://scikit-learn.org/stable/tutorial/machine_learning_map/index.html\n",
    "\n",
    "### Import libaries"
   ]
  },
  {
   "cell_type": "code",
   "execution_count": 1,
   "id": "75d2e9dc",
   "metadata": {},
   "outputs": [],
   "source": [
    "import matplotlib.pyplot as plt # Library til at visualisere data gennem fx. kordinatsystem\n",
    "import pandas as pd\n",
    "import numpy as np\n",
    "\n",
    "\n",
    "\n",
    "import emoji # https://carpedm20.github.io/emoji/docs/ - Library som bla. kan bruges til at fjerne emojis fra tekst\n",
    "import re # Skal måske ikke bruges længere, vi brugte den til gammel \"twitter cleaner\"?\n",
    "\n",
    "import nltk # (Natural Language Toolkit), library til diverse opgaver, fx. word stemming og tokenization\n",
    "from nltk.stem import WordNetLemmatizer # Library til lemmatizing af ord (fx. libraries -> library)\n",
    "lemmetizer_output= WordNetLemmatizer()\n",
    "\n",
    "stemmer = nltk.SnowballStemmer(\"english\") # Skal måske ikke bruges længere, vi brugte den til gammel \"twitter cleaner\"?\n",
    "from nltk.corpus import stopwords # Skal måske ikke bruges længere, vi brugte den til gammel \"twitter cleaner\"?\n",
    "import string # Skal måske ikke bruges længere, vi brugte den til gammel \"twitter cleaner\"?\n",
    "\n",
    "stopword=set(stopwords.words('english')) # Set, indeholder engelske stopwords\n",
    "\n",
    "from sklearn.naive_bayes import MultinomialNB # Importerer Naive Bayes algoritme\n",
    "from sklearn.svm import SVC # Importerer SVM algoritme\n",
    "\n",
    "from sklearn.feature_extraction.text import CountVectorizer, TfidfVectorizer\n",
    "from sklearn.model_selection import train_test_split # Import train_test_split function\n",
    "from sklearn import metrics #Import scikit-learn metrics module for accuracy calculation\n",
    "\n",
    "\n",
    "\n",
    "from textblob import TextBlob #Library til textanalyse. Vi bruger det pt. til at få polarity/subjectivity fra sætninger\n",
    "\n",
    "from wordcloud import WordCloud #https://stackoverflow.com/questions/41792471/installing-wordcloud-using-jupyter-notebook\n",
    "from PIL import Image #Bruges til Word cloud (som visualiserer de mest hyppige ord i datasæt)\n",
    "\n",
    "import timeit # https://docs.python.org/3/library/timeit.html  - Library som bruges til at måle, hvor lang tid det tager at køre en kode \"block\" \n"
   ]
  },
  {
   "cell_type": "markdown",
   "id": "bcaedafd",
   "metadata": {},
   "source": [
    "## Instantiate algoritmer der skal bruges"
   ]
  },
  {
   "cell_type": "code",
   "execution_count": 2,
   "id": "9c3859d5",
   "metadata": {},
   "outputs": [],
   "source": [
    "nb = MultinomialNB() # Instantiates Naives Bayes\n",
    "svm = SVC(kernel='linear', probability=True) # Instantiates SVM, og sætter dens kernal til linear"
   ]
  },
  {
   "cell_type": "markdown",
   "id": "492b7652",
   "metadata": {},
   "source": [
    "### Import the dataset"
   ]
  },
  {
   "cell_type": "code",
   "execution_count": 3,
   "id": "f1dca8c7",
   "metadata": {},
   "outputs": [],
   "source": [
    "data = pd.read_csv('C:/Users/Jacob/Bachelor/Data/generic_sentiment_small.csv') #https://www.kaggle.com/datasets/akgeni/generic-sentiment-multidomain-sentiment-dataset?select=generic_sentiment_dataset_50k.csv"
   ]
  },
  {
   "cell_type": "markdown",
   "id": "7ce86ead",
   "metadata": {},
   "source": [
    "## Function for cleaning text"
   ]
  },
  {
   "cell_type": "code",
   "execution_count": 4,
   "id": "ad566b8d",
   "metadata": {},
   "outputs": [],
   "source": [
    "# def clean(text):\n",
    "#     text = str(text).lower()\n",
    "#      #Denne fjerner RT @username, skal stå før \"string.punctuation\"\n",
    "#     #text = re.sub('rt @\\w+', '', text)\n",
    "    \n",
    "#      #Denne fjerner RT@username, skal stå før \"string.punctuation\". Tror den virker :)\n",
    "#     #text = re.sub('rt@\\w+', '', text)\n",
    "    \n",
    "    \n",
    "#     text = re.sub('\\[.*?\\]', '', text)\n",
    "#     text = re.sub('https?://\\S+|www\\.\\S+', '', text)\n",
    "#     text = re.sub('http?://\\S+|www\\.\\S+', '', text)\n",
    "#     text = re.sub('<.*?>+', '', text)\n",
    "    \n",
    "#     #Denne fjerner @username, skal stå før \"string.punctuation\"\n",
    "#     #text = re.sub(r'RT@\\w+', '', text)\n",
    "    \n",
    "#     text = re.sub('[%s]' % re.escape(string.punctuation), '', text)\n",
    "#     text = re.sub('\\n', '', text)\n",
    "#     text = re.sub('\\w*\\d\\w*', '', text)\n",
    "#     text = [word for word in text.split(' ') if word not in stopword]\n",
    "#     text=\" \".join(text)\n",
    "#     text = [stemmer.stem(word) for word in text.split(' ')]\n",
    "#     text=\" \".join(text)\n",
    "#     return text"
   ]
  },
  {
   "cell_type": "markdown",
   "id": "e0466351",
   "metadata": {},
   "source": [
    "#### applies the cleaning function to text"
   ]
  },
  {
   "cell_type": "code",
   "execution_count": 5,
   "id": "a213dc7d",
   "metadata": {},
   "outputs": [],
   "source": [
    "#data[\"cleaned_text\"] = data[\"text\"].apply(clean)"
   ]
  },
  {
   "cell_type": "markdown",
   "id": "53ec5b80",
   "metadata": {},
   "source": [
    "### Fjerner alt fra \"text\", som ikke er store/små bogstaver. Fx. Ø, * eller !"
   ]
  },
  {
   "cell_type": "code",
   "execution_count": 6,
   "id": "493cd9b0",
   "metadata": {},
   "outputs": [],
   "source": [
    "data[\"text\"] = data['text'].str.replace('[^a-zA-Z]',' ', regex=True)"
   ]
  },
  {
   "cell_type": "markdown",
   "id": "825cdfff",
   "metadata": {},
   "source": [
    "### Bruger NLTK tokenizer, til at opdele sætninger til enkeltstående ord. Lambda = gennemgår alle sætninger i datasæt"
   ]
  },
  {
   "cell_type": "code",
   "execution_count": 7,
   "id": "a4e385fb",
   "metadata": {},
   "outputs": [],
   "source": [
    "data['clean_text'] = data['text'].apply(lambda x: nltk.word_tokenize(x) ) "
   ]
  },
  {
   "cell_type": "markdown",
   "id": "48b8f7bc",
   "metadata": {},
   "source": [
    "### Laver lemmatization for hvert ord i hver kolonne. Fx. løber bliver ændret til løb. Ignorerer engelske stopwords"
   ]
  },
  {
   "cell_type": "code",
   "execution_count": 8,
   "id": "bc56da8b",
   "metadata": {},
   "outputs": [],
   "source": [
    "data['stem_text'] = data['clean_text'].apply(lambda x: [lemmetizer_output.lemmatize(j) for j in x if not j in set(stopword)] )\n",
    "#applying lemmatization to each word of every column \n",
    "#by using pandas apply method\n",
    "#and checking for stop words at the same time"
   ]
  },
  {
   "cell_type": "markdown",
   "id": "7e9cb4c1",
   "metadata": {},
   "source": [
    "### Laver ny række i datasæt, med færdig tekst. Altså cleaned tekst, som kan bruges til at træne model"
   ]
  },
  {
   "cell_type": "code",
   "execution_count": 9,
   "id": "f8a6d545",
   "metadata": {},
   "outputs": [],
   "source": [
    "data['cleaned_text'] = data['stem_text'].apply(lambda x: ' '.join(x) ) "
   ]
  },
  {
   "cell_type": "markdown",
   "id": "e0748788",
   "metadata": {},
   "source": [
    "### Viser datasæt, her kan vi nu se hhv. clean_text, stem_text og cleaned_text"
   ]
  },
  {
   "cell_type": "code",
   "execution_count": 10,
   "id": "a7faccfe",
   "metadata": {},
   "outputs": [
    {
     "data": {
      "text/html": [
       "<div>\n",
       "<style scoped>\n",
       "    .dataframe tbody tr th:only-of-type {\n",
       "        vertical-align: middle;\n",
       "    }\n",
       "\n",
       "    .dataframe tbody tr th {\n",
       "        vertical-align: top;\n",
       "    }\n",
       "\n",
       "    .dataframe thead th {\n",
       "        text-align: right;\n",
       "    }\n",
       "</style>\n",
       "<table border=\"1\" class=\"dataframe\">\n",
       "  <thead>\n",
       "    <tr style=\"text-align: right;\">\n",
       "      <th></th>\n",
       "      <th>sentiment</th>\n",
       "      <th>text</th>\n",
       "      <th>label</th>\n",
       "      <th>clean_text</th>\n",
       "      <th>stem_text</th>\n",
       "      <th>cleaned_text</th>\n",
       "    </tr>\n",
       "  </thead>\n",
       "  <tbody>\n",
       "    <tr>\n",
       "      <th>0</th>\n",
       "      <td>positive</td>\n",
       "      <td>good mobile  battery is      mah is very big  ...</td>\n",
       "      <td>2</td>\n",
       "      <td>[good, mobile, battery, is, mah, is, very, big...</td>\n",
       "      <td>[good, mobile, battery, mah, big, camera, qual...</td>\n",
       "      <td>good mobile battery mah big camera quality good</td>\n",
       "    </tr>\n",
       "    <tr>\n",
       "      <th>1</th>\n",
       "      <td>positive</td>\n",
       "      <td>Overall in hand ecpirience is quite good matt ...</td>\n",
       "      <td>2</td>\n",
       "      <td>[Overall, in, hand, ecpirience, is, quite, goo...</td>\n",
       "      <td>[Overall, hand, ecpirience, quite, good, matt,...</td>\n",
       "      <td>Overall hand ecpirience quite good matt finish...</td>\n",
       "    </tr>\n",
       "    <tr>\n",
       "      <th>2</th>\n",
       "      <td>positive</td>\n",
       "      <td>Superb Camera     No lag    This is my firs...</td>\n",
       "      <td>2</td>\n",
       "      <td>[Superb, Camera, No, lag, This, is, my, first,...</td>\n",
       "      <td>[Superb, Camera, No, lag, This, first, Samsung...</td>\n",
       "      <td>Superb Camera No lag This first Samsung phone ...</td>\n",
       "    </tr>\n",
       "    <tr>\n",
       "      <th>3</th>\n",
       "      <td>positive</td>\n",
       "      <td>Bigger size of application names doesn t allow...</td>\n",
       "      <td>2</td>\n",
       "      <td>[Bigger, size, of, application, names, doesn, ...</td>\n",
       "      <td>[Bigger, size, application, name, allow, name,...</td>\n",
       "      <td>Bigger size application name allow name viewed...</td>\n",
       "    </tr>\n",
       "    <tr>\n",
       "      <th>4</th>\n",
       "      <td>negative</td>\n",
       "      <td>Just a hype of stock android which is not flaw...</td>\n",
       "      <td>0</td>\n",
       "      <td>[Just, a, hype, of, stock, android, which, is,...</td>\n",
       "      <td>[Just, hype, stock, android, flawless, It, bet...</td>\n",
       "      <td>Just hype stock android flawless It better cus...</td>\n",
       "    </tr>\n",
       "    <tr>\n",
       "      <th>...</th>\n",
       "      <td>...</td>\n",
       "      <td>...</td>\n",
       "      <td>...</td>\n",
       "      <td>...</td>\n",
       "      <td>...</td>\n",
       "      <td>...</td>\n",
       "    </tr>\n",
       "    <tr>\n",
       "      <th>9933</th>\n",
       "      <td>neutral</td>\n",
       "      <td>Hi SCREEN   the phone    hz screen which is qu...</td>\n",
       "      <td>1</td>\n",
       "      <td>[Hi, SCREEN, the, phone, hz, screen, which, is...</td>\n",
       "      <td>[Hi, SCREEN, phone, hz, screen, quite, fast, d...</td>\n",
       "      <td>Hi SCREEN phone hz screen quite fast depth col...</td>\n",
       "    </tr>\n",
       "    <tr>\n",
       "      <th>9934</th>\n",
       "      <td>negative</td>\n",
       "      <td>Even  G data loading  is very slow  Poor camer...</td>\n",
       "      <td>0</td>\n",
       "      <td>[Even, G, data, loading, is, very, slow, Poor,...</td>\n",
       "      <td>[Even, G, data, loading, slow, Poor, camera, q...</td>\n",
       "      <td>Even G data loading slow Poor camera quality E...</td>\n",
       "    </tr>\n",
       "    <tr>\n",
       "      <th>9935</th>\n",
       "      <td>positive</td>\n",
       "      <td>Battery drains fast please replace battery</td>\n",
       "      <td>2</td>\n",
       "      <td>[Battery, drains, fast, please, replace, battery]</td>\n",
       "      <td>[Battery, drain, fast, please, replace, battery]</td>\n",
       "      <td>Battery drain fast please replace battery</td>\n",
       "    </tr>\n",
       "    <tr>\n",
       "      <th>9936</th>\n",
       "      <td>negative</td>\n",
       "      <td>The battery supposed to be      Milli ampere b...</td>\n",
       "      <td>0</td>\n",
       "      <td>[The, battery, supposed, to, be, Milli, ampere...</td>\n",
       "      <td>[The, battery, supposed, Milli, ampere, work, ...</td>\n",
       "      <td>The battery supposed Milli ampere work whole d...</td>\n",
       "    </tr>\n",
       "    <tr>\n",
       "      <th>9937</th>\n",
       "      <td>positive</td>\n",
       "      <td>Nice</td>\n",
       "      <td>2</td>\n",
       "      <td>[Nice]</td>\n",
       "      <td>[Nice]</td>\n",
       "      <td>Nice</td>\n",
       "    </tr>\n",
       "  </tbody>\n",
       "</table>\n",
       "<p>9938 rows × 6 columns</p>\n",
       "</div>"
      ],
      "text/plain": [
       "     sentiment                                               text  label  \\\n",
       "0     positive  good mobile  battery is      mah is very big  ...      2   \n",
       "1     positive  Overall in hand ecpirience is quite good matt ...      2   \n",
       "2     positive     Superb Camera     No lag    This is my firs...      2   \n",
       "3     positive  Bigger size of application names doesn t allow...      2   \n",
       "4     negative  Just a hype of stock android which is not flaw...      0   \n",
       "...        ...                                                ...    ...   \n",
       "9933   neutral  Hi SCREEN   the phone    hz screen which is qu...      1   \n",
       "9934  negative  Even  G data loading  is very slow  Poor camer...      0   \n",
       "9935  positive         Battery drains fast please replace battery      2   \n",
       "9936  negative  The battery supposed to be      Milli ampere b...      0   \n",
       "9937  positive                                               Nice      2   \n",
       "\n",
       "                                             clean_text  \\\n",
       "0     [good, mobile, battery, is, mah, is, very, big...   \n",
       "1     [Overall, in, hand, ecpirience, is, quite, goo...   \n",
       "2     [Superb, Camera, No, lag, This, is, my, first,...   \n",
       "3     [Bigger, size, of, application, names, doesn, ...   \n",
       "4     [Just, a, hype, of, stock, android, which, is,...   \n",
       "...                                                 ...   \n",
       "9933  [Hi, SCREEN, the, phone, hz, screen, which, is...   \n",
       "9934  [Even, G, data, loading, is, very, slow, Poor,...   \n",
       "9935  [Battery, drains, fast, please, replace, battery]   \n",
       "9936  [The, battery, supposed, to, be, Milli, ampere...   \n",
       "9937                                             [Nice]   \n",
       "\n",
       "                                              stem_text  \\\n",
       "0     [good, mobile, battery, mah, big, camera, qual...   \n",
       "1     [Overall, hand, ecpirience, quite, good, matt,...   \n",
       "2     [Superb, Camera, No, lag, This, first, Samsung...   \n",
       "3     [Bigger, size, application, name, allow, name,...   \n",
       "4     [Just, hype, stock, android, flawless, It, bet...   \n",
       "...                                                 ...   \n",
       "9933  [Hi, SCREEN, phone, hz, screen, quite, fast, d...   \n",
       "9934  [Even, G, data, loading, slow, Poor, camera, q...   \n",
       "9935   [Battery, drain, fast, please, replace, battery]   \n",
       "9936  [The, battery, supposed, Milli, ampere, work, ...   \n",
       "9937                                             [Nice]   \n",
       "\n",
       "                                           cleaned_text  \n",
       "0       good mobile battery mah big camera quality good  \n",
       "1     Overall hand ecpirience quite good matt finish...  \n",
       "2     Superb Camera No lag This first Samsung phone ...  \n",
       "3     Bigger size application name allow name viewed...  \n",
       "4     Just hype stock android flawless It better cus...  \n",
       "...                                                 ...  \n",
       "9933  Hi SCREEN phone hz screen quite fast depth col...  \n",
       "9934  Even G data loading slow Poor camera quality E...  \n",
       "9935          Battery drain fast please replace battery  \n",
       "9936  The battery supposed Milli ampere work whole d...  \n",
       "9937                                               Nice  \n",
       "\n",
       "[9938 rows x 6 columns]"
      ]
     },
     "execution_count": 10,
     "metadata": {},
     "output_type": "execute_result"
    }
   ],
   "source": [
    "data"
   ]
  },
  {
   "cell_type": "markdown",
   "id": "fae5f809",
   "metadata": {},
   "source": [
    "### Fra emoji library. Tæller hvor mange emojis der er i \"cleaned_text\". "
   ]
  },
  {
   "cell_type": "code",
   "execution_count": 11,
   "id": "04847f7f",
   "metadata": {},
   "outputs": [
    {
     "data": {
      "text/plain": [
       "0"
      ]
     },
     "execution_count": 11,
     "metadata": {},
     "output_type": "execute_result"
    }
   ],
   "source": [
    "emoji.emoji_count(data['cleaned_text'])"
   ]
  },
  {
   "cell_type": "markdown",
   "id": "10379921",
   "metadata": {},
   "source": [
    "### Fjerner emojis. Måske overflødig, burde emojis ikke være fjernet?"
   ]
  },
  {
   "cell_type": "code",
   "execution_count": 12,
   "id": "713f91b4",
   "metadata": {},
   "outputs": [],
   "source": [
    "data['cleaned_text'] = data['cleaned_text'].apply(lambda s: emoji.replace_emoji(s, ''))"
   ]
  },
  {
   "cell_type": "code",
   "execution_count": 13,
   "id": "640b2239",
   "metadata": {},
   "outputs": [
    {
     "data": {
      "text/plain": [
       "0"
      ]
     },
     "execution_count": 13,
     "metadata": {},
     "output_type": "execute_result"
    }
   ],
   "source": [
    "emoji.emoji_count(data['cleaned_text'])"
   ]
  },
  {
   "cell_type": "markdown",
   "id": "df1afe17",
   "metadata": {},
   "source": [
    "### Viser fordeling af kategorier til klassificering"
   ]
  },
  {
   "cell_type": "code",
   "execution_count": 14,
   "id": "6c6fb797",
   "metadata": {},
   "outputs": [
    {
     "data": {
      "text/plain": [
       "<AxesSubplot:ylabel='sentiment'>"
      ]
     },
     "execution_count": 14,
     "metadata": {},
     "output_type": "execute_result"
    },
    {
     "data": {
      "image/png": "[encoded data removed]",
      "text/plain": [
       "<Figure size 400x400 with 1 Axes>"
      ]
     },
     "metadata": {},
     "output_type": "display_data"
    }
   ],
   "source": [
    "plt.figure(figsize=(4,4))\n",
    "data['sentiment'].value_counts().plot.pie(autopct='%1.1f%%', startangle=60)"
   ]
  },
  {
   "cell_type": "markdown",
   "id": "d2828c20",
   "metadata": {},
   "source": [
    "### Laver en wordcloud for at vise de ord, som går igen ofte i datasættet"
   ]
  },
  {
   "cell_type": "code",
   "execution_count": 15,
   "id": "6ef9cf95",
   "metadata": {},
   "outputs": [],
   "source": [
    "# text_positive=data[data['label']==2]\n",
    "# #text_positive\n",
    "# text_positive_review = \" \".join(label for label in text_positive.cleaned_text)\n",
    "# #text_positive_review\n",
    "\n",
    "# text_neutral=data[data['label']==1]\n",
    "# #text_neutral\n",
    "# text_neutral_review = \" \".join(label for label in text_neutral.cleaned_text)\n",
    "# #text_neutral_review\n",
    "\n",
    "# text_negative=data[data['label']==0]\n",
    "# #text_negative\n",
    "# text_negative_review = \" \".join(label for label in text_negative.cleaned_text)\n",
    "# #text_negative_review\n"
   ]
  },
  {
   "cell_type": "code",
   "execution_count": 16,
   "id": "cce33b3c",
   "metadata": {},
   "outputs": [],
   "source": [
    "# wine_mask = np.array(Image.open(\"C:/Users/Jacob/Bachelor/Data/wordCloudTemplate.jpg\"))\n",
    "# wc = WordCloud(background_color=\"white\", max_words=1000, mask=wine_mask,\n",
    "#                 contour_width=3, contour_color='firebrick')\n",
    "\n",
    "# # Generate a wordcloud\n",
    "# wc.generate(text_positive_review)\n",
    "\n",
    "# # store to file\n",
    "# #wc.to_file(\"cloud2.png\")\n",
    "\n",
    "# # show\n",
    "# plt.figure(figsize=[10,5])\n",
    "# plt.imshow(wc)\n",
    "# plt.axis(\"off\")\n",
    "# plt.title('Positive')\n",
    "# plt.show()\n",
    "\n",
    "\n",
    "\n",
    "# # Generate a wordcloud\n",
    "# wc.generate(text_neutral_review)\n",
    "\n",
    "# # store to file\n",
    "# #wc.to_file(\"cloud2.png\")\n",
    "\n",
    "# # show\n",
    "# plt.figure(figsize=[10,5])\n",
    "# plt.imshow(wc)\n",
    "# plt.axis(\"off\")\n",
    "# plt.title('Neutral')\n",
    "# plt.show()\n",
    "\n",
    "# # Generate a wordcloud\n",
    "# wc.generate(text_negative_review)\n",
    "\n",
    "# # store to file\n",
    "# #wc.to_file(\"cloud2.png\")\n",
    "\n",
    "# # show\n",
    "# plt.figure(figsize=[10,5])\n",
    "# plt.imshow(wc)\n",
    "# plt.axis(\"off\")\n",
    "# plt.title('Negative')\n",
    "# plt.show()"
   ]
  },
  {
   "cell_type": "code",
   "execution_count": null,
   "id": "fc906632",
   "metadata": {},
   "outputs": [],
   "source": []
  },
  {
   "cell_type": "code",
   "execution_count": null,
   "id": "4dcc78cb",
   "metadata": {},
   "outputs": [],
   "source": []
  },
  {
   "cell_type": "markdown",
   "id": "2a3476a9",
   "metadata": {},
   "source": [
    "### Bruger textblob library, som giver polarity (positiv/negativ), samt subjectivity (objektivt/subjektivt)"
   ]
  },
  {
   "cell_type": "code",
   "execution_count": 17,
   "id": "bbbb85fa",
   "metadata": {
    "scrolled": false
   },
   "outputs": [],
   "source": [
    "data['polarity'] = data['cleaned_text'].apply(lambda x: TextBlob(x).sentiment) # https://medium.com/analytics-vidhya/performing-sentiment-analysis-on-yelp-restaurant-reviews-962334d6336d\n",
    "#applt textblob sentiment to yelp text column\n",
    "#and assign it to a new column named polarity\n",
    "sentiment_series = data['polarity'].tolist()\n",
    "\n",
    "data[['polaarity','subjectivity']] = pd.DataFrame(sentiment_series, index=data.index)\n",
    "data.drop('polarity', inplace=True, axis=1)\n",
    "# split the list into two and create two new c\n",
    "#split the list into two and create two new columns\n",
    "#assign the return values of sentiment function;\n",
    "#polarity and subjectivity to those columns"
   ]
  },
  {
   "cell_type": "code",
   "execution_count": 18,
   "id": "7c1e8deb",
   "metadata": {},
   "outputs": [
    {
     "data": {
      "text/html": [
       "<div>\n",
       "<style scoped>\n",
       "    .dataframe tbody tr th:only-of-type {\n",
       "        vertical-align: middle;\n",
       "    }\n",
       "\n",
       "    .dataframe tbody tr th {\n",
       "        vertical-align: top;\n",
       "    }\n",
       "\n",
       "    .dataframe thead th {\n",
       "        text-align: right;\n",
       "    }\n",
       "</style>\n",
       "<table border=\"1\" class=\"dataframe\">\n",
       "  <thead>\n",
       "    <tr style=\"text-align: right;\">\n",
       "      <th></th>\n",
       "      <th>sentiment</th>\n",
       "      <th>text</th>\n",
       "      <th>label</th>\n",
       "      <th>clean_text</th>\n",
       "      <th>stem_text</th>\n",
       "      <th>cleaned_text</th>\n",
       "      <th>polaarity</th>\n",
       "      <th>subjectivity</th>\n",
       "    </tr>\n",
       "  </thead>\n",
       "  <tbody>\n",
       "    <tr>\n",
       "      <th>0</th>\n",
       "      <td>positive</td>\n",
       "      <td>good mobile  battery is      mah is very big  ...</td>\n",
       "      <td>2</td>\n",
       "      <td>[good, mobile, battery, is, mah, is, very, big...</td>\n",
       "      <td>[good, mobile, battery, mah, big, camera, qual...</td>\n",
       "      <td>good mobile battery mah big camera quality good</td>\n",
       "      <td>0.466667</td>\n",
       "      <td>0.433333</td>\n",
       "    </tr>\n",
       "    <tr>\n",
       "      <th>1</th>\n",
       "      <td>positive</td>\n",
       "      <td>Overall in hand ecpirience is quite good matt ...</td>\n",
       "      <td>2</td>\n",
       "      <td>[Overall, in, hand, ecpirience, is, quite, goo...</td>\n",
       "      <td>[Overall, hand, ecpirience, quite, good, matt,...</td>\n",
       "      <td>Overall hand ecpirience quite good matt finish...</td>\n",
       "      <td>0.416667</td>\n",
       "      <td>0.429167</td>\n",
       "    </tr>\n",
       "    <tr>\n",
       "      <th>2</th>\n",
       "      <td>positive</td>\n",
       "      <td>Superb Camera     No lag    This is my firs...</td>\n",
       "      <td>2</td>\n",
       "      <td>[Superb, Camera, No, lag, This, is, my, first,...</td>\n",
       "      <td>[Superb, Camera, No, lag, This, first, Samsung...</td>\n",
       "      <td>Superb Camera No lag This first Samsung phone ...</td>\n",
       "      <td>0.416667</td>\n",
       "      <td>0.611111</td>\n",
       "    </tr>\n",
       "    <tr>\n",
       "      <th>3</th>\n",
       "      <td>positive</td>\n",
       "      <td>Bigger size of application names doesn t allow...</td>\n",
       "      <td>2</td>\n",
       "      <td>[Bigger, size, of, application, names, doesn, ...</td>\n",
       "      <td>[Bigger, size, application, name, allow, name,...</td>\n",
       "      <td>Bigger size application name allow name viewed...</td>\n",
       "      <td>0.175000</td>\n",
       "      <td>0.525000</td>\n",
       "    </tr>\n",
       "    <tr>\n",
       "      <th>4</th>\n",
       "      <td>negative</td>\n",
       "      <td>Just a hype of stock android which is not flaw...</td>\n",
       "      <td>0</td>\n",
       "      <td>[Just, a, hype, of, stock, android, which, is,...</td>\n",
       "      <td>[Just, hype, stock, android, flawless, It, bet...</td>\n",
       "      <td>Just hype stock android flawless It better cus...</td>\n",
       "      <td>0.471429</td>\n",
       "      <td>0.600000</td>\n",
       "    </tr>\n",
       "    <tr>\n",
       "      <th>...</th>\n",
       "      <td>...</td>\n",
       "      <td>...</td>\n",
       "      <td>...</td>\n",
       "      <td>...</td>\n",
       "      <td>...</td>\n",
       "      <td>...</td>\n",
       "      <td>...</td>\n",
       "      <td>...</td>\n",
       "    </tr>\n",
       "    <tr>\n",
       "      <th>9933</th>\n",
       "      <td>neutral</td>\n",
       "      <td>Hi SCREEN   the phone    hz screen which is qu...</td>\n",
       "      <td>1</td>\n",
       "      <td>[Hi, SCREEN, the, phone, hz, screen, which, is...</td>\n",
       "      <td>[Hi, SCREEN, phone, hz, screen, quite, fast, d...</td>\n",
       "      <td>Hi SCREEN phone hz screen quite fast depth col...</td>\n",
       "      <td>0.262500</td>\n",
       "      <td>0.700000</td>\n",
       "    </tr>\n",
       "    <tr>\n",
       "      <th>9934</th>\n",
       "      <td>negative</td>\n",
       "      <td>Even  G data loading  is very slow  Poor camer...</td>\n",
       "      <td>0</td>\n",
       "      <td>[Even, G, data, loading, is, very, slow, Poor,...</td>\n",
       "      <td>[Even, G, data, loading, slow, Poor, camera, q...</td>\n",
       "      <td>Even G data loading slow Poor camera quality E...</td>\n",
       "      <td>-0.162500</td>\n",
       "      <td>0.487500</td>\n",
       "    </tr>\n",
       "    <tr>\n",
       "      <th>9935</th>\n",
       "      <td>positive</td>\n",
       "      <td>Battery drains fast please replace battery</td>\n",
       "      <td>2</td>\n",
       "      <td>[Battery, drains, fast, please, replace, battery]</td>\n",
       "      <td>[Battery, drain, fast, please, replace, battery]</td>\n",
       "      <td>Battery drain fast please replace battery</td>\n",
       "      <td>0.200000</td>\n",
       "      <td>0.600000</td>\n",
       "    </tr>\n",
       "    <tr>\n",
       "      <th>9936</th>\n",
       "      <td>negative</td>\n",
       "      <td>The battery supposed to be      Milli ampere b...</td>\n",
       "      <td>0</td>\n",
       "      <td>[The, battery, supposed, to, be, Milli, ampere...</td>\n",
       "      <td>[The, battery, supposed, Milli, ampere, work, ...</td>\n",
       "      <td>The battery supposed Milli ampere work whole d...</td>\n",
       "      <td>-0.150000</td>\n",
       "      <td>0.300000</td>\n",
       "    </tr>\n",
       "    <tr>\n",
       "      <th>9937</th>\n",
       "      <td>positive</td>\n",
       "      <td>Nice</td>\n",
       "      <td>2</td>\n",
       "      <td>[Nice]</td>\n",
       "      <td>[Nice]</td>\n",
       "      <td>Nice</td>\n",
       "      <td>0.600000</td>\n",
       "      <td>1.000000</td>\n",
       "    </tr>\n",
       "  </tbody>\n",
       "</table>\n",
       "<p>9938 rows × 8 columns</p>\n",
       "</div>"
      ],
      "text/plain": [
       "     sentiment                                               text  label  \\\n",
       "0     positive  good mobile  battery is      mah is very big  ...      2   \n",
       "1     positive  Overall in hand ecpirience is quite good matt ...      2   \n",
       "2     positive     Superb Camera     No lag    This is my firs...      2   \n",
       "3     positive  Bigger size of application names doesn t allow...      2   \n",
       "4     negative  Just a hype of stock android which is not flaw...      0   \n",
       "...        ...                                                ...    ...   \n",
       "9933   neutral  Hi SCREEN   the phone    hz screen which is qu...      1   \n",
       "9934  negative  Even  G data loading  is very slow  Poor camer...      0   \n",
       "9935  positive         Battery drains fast please replace battery      2   \n",
       "9936  negative  The battery supposed to be      Milli ampere b...      0   \n",
       "9937  positive                                               Nice      2   \n",
       "\n",
       "                                             clean_text  \\\n",
       "0     [good, mobile, battery, is, mah, is, very, big...   \n",
       "1     [Overall, in, hand, ecpirience, is, quite, goo...   \n",
       "2     [Superb, Camera, No, lag, This, is, my, first,...   \n",
       "3     [Bigger, size, of, application, names, doesn, ...   \n",
       "4     [Just, a, hype, of, stock, android, which, is,...   \n",
       "...                                                 ...   \n",
       "9933  [Hi, SCREEN, the, phone, hz, screen, which, is...   \n",
       "9934  [Even, G, data, loading, is, very, slow, Poor,...   \n",
       "9935  [Battery, drains, fast, please, replace, battery]   \n",
       "9936  [The, battery, supposed, to, be, Milli, ampere...   \n",
       "9937                                             [Nice]   \n",
       "\n",
       "                                              stem_text  \\\n",
       "0     [good, mobile, battery, mah, big, camera, qual...   \n",
       "1     [Overall, hand, ecpirience, quite, good, matt,...   \n",
       "2     [Superb, Camera, No, lag, This, first, Samsung...   \n",
       "3     [Bigger, size, application, name, allow, name,...   \n",
       "4     [Just, hype, stock, android, flawless, It, bet...   \n",
       "...                                                 ...   \n",
       "9933  [Hi, SCREEN, phone, hz, screen, quite, fast, d...   \n",
       "9934  [Even, G, data, loading, slow, Poor, camera, q...   \n",
       "9935   [Battery, drain, fast, please, replace, battery]   \n",
       "9936  [The, battery, supposed, Milli, ampere, work, ...   \n",
       "9937                                             [Nice]   \n",
       "\n",
       "                                           cleaned_text  polaarity  \\\n",
       "0       good mobile battery mah big camera quality good   0.466667   \n",
       "1     Overall hand ecpirience quite good matt finish...   0.416667   \n",
       "2     Superb Camera No lag This first Samsung phone ...   0.416667   \n",
       "3     Bigger size application name allow name viewed...   0.175000   \n",
       "4     Just hype stock android flawless It better cus...   0.471429   \n",
       "...                                                 ...        ...   \n",
       "9933  Hi SCREEN phone hz screen quite fast depth col...   0.262500   \n",
       "9934  Even G data loading slow Poor camera quality E...  -0.162500   \n",
       "9935          Battery drain fast please replace battery   0.200000   \n",
       "9936  The battery supposed Milli ampere work whole d...  -0.150000   \n",
       "9937                                               Nice   0.600000   \n",
       "\n",
       "      subjectivity  \n",
       "0         0.433333  \n",
       "1         0.429167  \n",
       "2         0.611111  \n",
       "3         0.525000  \n",
       "4         0.600000  \n",
       "...            ...  \n",
       "9933      0.700000  \n",
       "9934      0.487500  \n",
       "9935      0.600000  \n",
       "9936      0.300000  \n",
       "9937      1.000000  \n",
       "\n",
       "[9938 rows x 8 columns]"
      ]
     },
     "execution_count": 18,
     "metadata": {},
     "output_type": "execute_result"
    }
   ],
   "source": [
    "data"
   ]
  },
  {
   "cell_type": "markdown",
   "id": "6fbbf842",
   "metadata": {},
   "source": [
    "### Variabler til input data og labels. "
   ]
  },
  {
   "cell_type": "code",
   "execution_count": 19,
   "id": "951ac56d",
   "metadata": {},
   "outputs": [],
   "source": [
    "X = np.array(data[\"cleaned_text\"])\n",
    "y = np.array(data[\"label\"])"
   ]
  },
  {
   "cell_type": "markdown",
   "id": "569d9b7e",
   "metadata": {},
   "source": [
    "### Opdeler datasæt i træning og test. "
   ]
  },
  {
   "cell_type": "code",
   "execution_count": 20,
   "id": "1f30a513",
   "metadata": {},
   "outputs": [],
   "source": [
    "X_train, X_test, y_train, y_test = train_test_split(X, y, test_size=0.2, random_state=None)"
   ]
  },
  {
   "cell_type": "markdown",
   "id": "ca6980a8",
   "metadata": {},
   "source": [
    "### Laver Vectorizers (omdanner tekst til vectors, som kan bruges til model) "
   ]
  },
  {
   "cell_type": "code",
   "execution_count": 21,
   "id": "5b5a91cb",
   "metadata": {},
   "outputs": [],
   "source": [
    "# vectorizer = CountVectorizer()\n",
    "# X_train_vect = vectorizer.fit_transform(X_train)\n",
    "# X_test_vect = vectorizer.transform(X_test)"
   ]
  },
  {
   "cell_type": "markdown",
   "id": "2c0ef2f4",
   "metadata": {},
   "source": [
    "### Viser hvordan Xtrain (tekst til træning), nu er repræsenteret som vector"
   ]
  },
  {
   "cell_type": "code",
   "execution_count": 22,
   "id": "55d7ca80",
   "metadata": {},
   "outputs": [],
   "source": [
    "#print(X_train_vect)"
   ]
  },
  {
   "cell_type": "code",
   "execution_count": 23,
   "id": "4dcc40b4",
   "metadata": {},
   "outputs": [],
   "source": [
    "# VecWordsToDF=pd.DataFrame(X_train_vect.toarray(),columns=vectorizer.get_feature_names())\n",
    "# VecWordsToDF.tail()"
   ]
  },
  {
   "cell_type": "markdown",
   "id": "3fa279bb",
   "metadata": {},
   "source": [
    "### Metoden \"tokenize_test\", bruges til at træne og teste samtlige algoritmer, så man kan sammenligne resultat"
   ]
  },
  {
   "cell_type": "code",
   "execution_count": 24,
   "id": "c6e2f921",
   "metadata": {
    "scrolled": false
   },
   "outputs": [],
   "source": [
    "#models=[gbc,d,k,g,b,r,log,xgbc]\n",
    "models=[nb, svm]\n",
    "def tokenize_test(models,vect):\n",
    "    row_list=[]\n",
    "    for i in range(len(models)):\n",
    "        X_train_vect = vect.fit_transform(X_train)\n",
    "        X_test_vect = vect.transform(X_test)\n",
    "        nb = models[i]\n",
    "        nb.fit(X_train_vect, y_train)\n",
    "        y_pred_class = nb.predict(X_test_vect)\n",
    "        \n",
    "        data={'accuracy_score':metrics.accuracy_score(y_test, y_pred_class)}\n",
    "        \n",
    "        if isinstance(nb, MultinomialNB):\n",
    "            # Use predict_proba for MultinomialNB model\n",
    "            # show the first few entries of predict_proba\n",
    "            print(\"-------Naive Bayes--------\")\n",
    "            print(\"Predicted probabilities:\\n{}\".format(nb.predict_proba(X_test_vect)[:6]))\n",
    "            # show that sums across rows are one\n",
    "            print(\"Sums: {}\".format(nb.predict_proba(X_test_vect)[:6].sum(axis=1)))\n",
    "    \n",
    "            #Ovenstående virker også, men giver tallene i Log (så vi kan ikke rigtigt sammenligne noget)\n",
    "    \n",
    "            print(\"Argmax of predicted probabilities:\\n{}\".format(\n",
    "                np.argmax(nb.predict_proba(X_test_vect), axis=1)))\n",
    "            print(\"Predictions:\\n{}\".format(nb.predict(X_test_vect)))\n",
    "        else:\n",
    "            print(\"-------SVM--------\") #The probability model is created using cross validation, so the results can be slightly different than those obtained by predict.\n",
    "            print(\"Predicted probabilities:\\n{}\".format(nb.predict_proba(X_test_vect)[:6]))\n",
    "            # show that sums across rows are one\n",
    "            print(\"Sums: {}\".format(nb.predict_proba(X_test_vect)[:6].sum(axis=1)))\n",
    "    \n",
    "            #Ovenstående virker også, men giver tallene i Log (så vi kan ikke rigtigt sammenligne noget)\n",
    "    \n",
    "            print(\"Argmax of predicted probabilities:\\n{}\".format(\n",
    "                np.argmax(nb.predict_proba(X_test_vect), axis=1)))\n",
    "            print(\"Predictions:\\n{}\".format(nb.predict(X_test_vect)))\n",
    "       \n",
    "        \n",
    "        row_list.append(data)\n",
    "        #print ('Accuracy: ', metrics.accuracy_score(y_test, y_pred_class))\n",
    "    df = pd.DataFrame(row_list, index =['nb', 'svm'])\n",
    "    print(df) # printer dataframe, som viser de forskellige algoritmers accuracy_score \n",
    "    return df"
   ]
  },
  {
   "cell_type": "code",
   "execution_count": 25,
   "id": "5c4c84c0",
   "metadata": {
    "scrolled": true
   },
   "outputs": [
    {
     "name": "stdout",
     "output_type": "stream",
     "text": [
      "-------Naive Bayes--------\n",
      "Predicted probabilities:\n",
      "[[3.23992706e-03 1.18894943e-02 9.84870579e-01]\n",
      " [5.09099086e-02 8.07424912e-02 8.68347600e-01]\n",
      " [9.75695988e-01 1.53320728e-02 8.97193918e-03]\n",
      " [1.27354526e-05 5.40142791e-05 9.99933250e-01]\n",
      " [7.08798589e-12 3.07956140e-11 1.00000000e+00]\n",
      " [8.15545390e-05 9.76463610e-06 9.99908681e-01]]\n",
      "Sums: [1. 1. 1. 1. 1. 1.]\n",
      "Argmax of predicted probabilities:\n",
      "[2 2 0 ... 0 2 1]\n",
      "Predictions:\n",
      "[2 2 0 ... 0 2 1]\n",
      "-------SVM--------\n",
      "Predicted probabilities:\n",
      "[[0.09363227 0.21131169 0.69505604]\n",
      " [0.2454901  0.23029342 0.52421648]\n",
      " [0.57982514 0.2394877  0.18068715]\n",
      " [0.079128   0.20338063 0.71749137]\n",
      " [0.00994834 0.06573674 0.92431492]\n",
      " [0.064449   0.11956551 0.81598549]]\n",
      "Sums: [1. 1. 1. 1. 1. 1.]\n",
      "Argmax of predicted probabilities:\n",
      "[2 2 0 ... 0 0 2]\n",
      "Predictions:\n",
      "[2 2 0 ... 0 0 2]\n",
      "     accuracy_score\n",
      "nb         0.701710\n",
      "svm        0.671529\n",
      "Tidsforbrug, ingen formatering:\n",
      "40.758857\n",
      "\n",
      "Time taken: 40.76 seconds\n"
     ]
    }
   ],
   "source": [
    "vectCount = CountVectorizer(ngram_range=(1,2)) ## ngram_range, betyder her at CountVectorizer objekt både gemmer \"single words\" og bigrams (flere ord i træk)\n",
    "\n",
    "vectTf = TfidfVectorizer(ngram_range=(1,2)) #Burde være bedre, men tager 8 min at compile med stort datasæt\n",
    "\n",
    "#vectorizer = TfidfVectorizer(stop_words='english') - Fjerner stopwords, men har vi allerede gjort!\n",
    "\n",
    "# Measure the time taken by the tokenize_test function (also executes it)\n",
    "time_taken = timeit.timeit(lambda: tokenize_test(models, vectCount), number=1)\n",
    "\n",
    "# Print the results\n",
    "print(f\"Tidsforbrug, ingen formatering:\\n{time_taken}\")\n",
    "if time_taken < 60:\n",
    "    print(f\"\\nTime taken: {round(time_taken, 2)} seconds\")\n",
    "elif time_taken < 3600:\n",
    "    print(f\"\\nTime taken: {round(time_taken/60, 2)} minutes\")\n",
    "else:\n",
    "    print(f\"\\nTime taken: {round(time_taken/3600, 2)} hours\")\n"
   ]
  },
  {
   "cell_type": "markdown",
   "id": "e703a0af",
   "metadata": {},
   "source": [
    "# Nedenstående er kode, hvor man selv kan indtaste sætning. I stedet for streamlit. Aka rodekasse :)"
   ]
  },
  {
   "cell_type": "code",
   "execution_count": 26,
   "id": "f78b09f1",
   "metadata": {},
   "outputs": [],
   "source": [
    "dataOtherTest = pd.read_csv('C:/Users/Jacob/Bachelor/Data/test_yelp.csv') #https://www.kaggle.com/datasets/thedevastator/yelp-reviews-sentiment-dataset"
   ]
  },
  {
   "cell_type": "code",
   "execution_count": 27,
   "id": "376a8525",
   "metadata": {},
   "outputs": [
    {
     "ename": "NameError",
     "evalue": "name 'clean' is not defined",
     "output_type": "error",
     "traceback": [
      "\u001b[1;31m---------------------------------------------------------------------------\u001b[0m",
      "\u001b[1;31mNameError\u001b[0m                                 Traceback (most recent call last)",
      "\u001b[1;32m~\\AppData\\Local\\Temp\\ipykernel_7500\\985156303.py\u001b[0m in \u001b[0;36m<module>\u001b[1;34m\u001b[0m\n\u001b[1;32m----> 1\u001b[1;33m \u001b[0mdataOtherTest\u001b[0m\u001b[1;33m[\u001b[0m\u001b[1;34m\"text\"\u001b[0m\u001b[1;33m]\u001b[0m \u001b[1;33m=\u001b[0m \u001b[0mdataOtherTest\u001b[0m\u001b[1;33m[\u001b[0m\u001b[1;34m\"text\"\u001b[0m\u001b[1;33m]\u001b[0m\u001b[1;33m.\u001b[0m\u001b[0mapply\u001b[0m\u001b[1;33m(\u001b[0m\u001b[0mclean\u001b[0m\u001b[1;33m)\u001b[0m\u001b[1;33m\u001b[0m\u001b[1;33m\u001b[0m\u001b[0m\n\u001b[0m",
      "\u001b[1;31mNameError\u001b[0m: name 'clean' is not defined"
     ]
    }
   ],
   "source": [
    "dataOtherTest[\"text\"] = dataOtherTest[\"text\"].apply(clean)"
   ]
  },
  {
   "cell_type": "code",
   "execution_count": null,
   "id": "878566d5",
   "metadata": {},
   "outputs": [],
   "source": [
    "Xx = np.array(dataOtherTest[\"text\"])\n",
    "yy = np.array(dataOtherTest[\"label\"])\n",
    "\n",
    "Xx_vect = vectorizer.transform(Xx)"
   ]
  },
  {
   "cell_type": "code",
   "execution_count": null,
   "id": "e1f01851",
   "metadata": {
    "scrolled": true
   },
   "outputs": [],
   "source": [
    "yy_pred = nb_classifier.predict(Xx_vect)\n",
    "print(\"Accuracy:\", metrics.accuracy_score(yy_pred, yy))"
   ]
  },
  {
   "cell_type": "code",
   "execution_count": null,
   "id": "9c49913e",
   "metadata": {},
   "outputs": [],
   "source": [
    "dataTest = pd.DataFrame(['It was truly amazing how derogatory the #GOPDebate was towards women. They didnt even try to apologize.'], \n",
    "                  columns=['text'])"
   ]
  },
  {
   "cell_type": "code",
   "execution_count": null,
   "id": "616232fd",
   "metadata": {},
   "outputs": [],
   "source": [
    "emoji.emoji_count(dataTest[\"text\"])"
   ]
  },
  {
   "cell_type": "code",
   "execution_count": null,
   "id": "179c00df",
   "metadata": {},
   "outputs": [],
   "source": [
    "dataTest[\"text\"] = dataTest[\"text\"].apply(clean)"
   ]
  },
  {
   "cell_type": "code",
   "execution_count": null,
   "id": "ac15e8d8",
   "metadata": {},
   "outputs": [],
   "source": [
    "dataTest[\"text\"] = dataTest[\"text\"].apply(lambda s: emoji.replace_emoji(s, ''))"
   ]
  },
  {
   "cell_type": "code",
   "execution_count": null,
   "id": "050319be",
   "metadata": {},
   "outputs": [],
   "source": [
    "emoji.emoji_count(dataTest[\"text\"])"
   ]
  },
  {
   "cell_type": "code",
   "execution_count": null,
   "id": "e3afb674",
   "metadata": {},
   "outputs": [],
   "source": [
    "labelTest = np.array([1], dtype=np.int64)\n"
   ]
  },
  {
   "cell_type": "code",
   "execution_count": null,
   "id": "76c2f872",
   "metadata": {},
   "outputs": [],
   "source": [
    "labelTest"
   ]
  },
  {
   "cell_type": "code",
   "execution_count": null,
   "id": "b3e14993",
   "metadata": {},
   "outputs": [],
   "source": [
    "data_test_vect = vectorizer.transform(dataTest)"
   ]
  },
  {
   "cell_type": "code",
   "execution_count": null,
   "id": "afb54830",
   "metadata": {},
   "outputs": [],
   "source": [
    "dataPred = nb_classifier.predict(data_test_vect)\n",
    "testAccuracy = np.mean(dataPred == labelTest)\n",
    "print(\"Accuracy:\", metrics.accuracy_score(dataPred, labelTest))\n",
    "#print(\"Accuracy:\", testAccuracy)"
   ]
  },
  {
   "cell_type": "markdown",
   "id": "1d6604e2",
   "metadata": {},
   "source": [
    "def detection():\n",
    "    import streamlit as st\n",
    "    st.title(\"Hate Speech Detection\")\n",
    "    user = st.text_area(\"Enter any Text: \")\n",
    "    if len(user) < 1:\n",
    "        st.write(\"  \")\n",
    "    else:\n",
    "        sample = user\n",
    "        data = vectorizer.transform([sample]).toarray()\n",
    "        a = dtree.predict(data)\n",
    "        st.title(a)\n",
    "detection()"
   ]
  }
 ],
 "metadata": {
  "kernelspec": {
   "display_name": "Python 3 (ipykernel)",
   "language": "python",
   "name": "python3"
  },
  "language_info": {
   "codemirror_mode": {
    "name": "ipython",
    "version": 3
   },
   "file_extension": ".py",
   "mimetype": "text/x-python",
   "name": "python",
   "nbconvert_exporter": "python",
   "pygments_lexer": "ipython3",
   "version": "3.9.13"
  }
 },
 "nbformat": 4,
 "nbformat_minor": 5
}
